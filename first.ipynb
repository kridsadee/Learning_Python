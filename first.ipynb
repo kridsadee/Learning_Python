{
 "cells": [
  {
   "cell_type": "markdown",
   "id": "c8de24e4",
   "metadata": {},
   "source": [
    "# Python"
   ]
  },
  {
   "cell_type": "markdown",
   "id": "8c3dcfca",
   "metadata": {},
   "source": [
    "## Data type  "
   ]
  },
  {
   "cell_type": "markdown",
   "id": "87c98095",
   "metadata": {},
   "source": [
    "### String "
   ]
  },
  {
   "cell_type": "code",
   "execution_count": 52,
   "id": "f9c9ad75",
   "metadata": {},
   "outputs": [
    {
     "name": "stdout",
     "output_type": "stream",
     "text": [
      "Hello World\n",
      "<class 'str'>\n"
     ]
    }
   ],
   "source": [
    "# str use for character\n",
    "x = \"Hello World\"\n",
    "print(x)\n",
    "print(type(x))"
   ]
  },
  {
   "cell_type": "markdown",
   "id": "8028be7f",
   "metadata": {},
   "source": [
    "### Integer "
   ]
  },
  {
   "cell_type": "code",
   "execution_count": 53,
   "id": "1aa9ceb4",
   "metadata": {},
   "outputs": [
    {
     "name": "stdout",
     "output_type": "stream",
     "text": [
      "10\n",
      "<class 'int'>\n"
     ]
    }
   ],
   "source": [
    "# int use for whole number\n",
    "x = 10\n",
    "print(x)\n",
    "print(type(x))"
   ]
  },
  {
   "cell_type": "markdown",
   "id": "35821ff5",
   "metadata": {},
   "source": [
    "### Floating"
   ]
  },
  {
   "cell_type": "code",
   "execution_count": 54,
   "id": "d82a7c48",
   "metadata": {},
   "outputs": [
    {
     "name": "stdout",
     "output_type": "stream",
     "text": [
      "10.5\n",
      "<class 'float'>\n"
     ]
    }
   ],
   "source": [
    "# float use for decimal number\n",
    "x = 10.5\n",
    "print(x)\n",
    "print(type(x))"
   ]
  },
  {
   "cell_type": "markdown",
   "id": "24ebce73",
   "metadata": {},
   "source": [
    "### Boolean "
   ]
  },
  {
   "cell_type": "code",
   "execution_count": 55,
   "id": "09c3278b",
   "metadata": {},
   "outputs": [
    {
     "name": "stdout",
     "output_type": "stream",
     "text": [
      "True False\n",
      "<class 'bool'>\n"
     ]
    }
   ],
   "source": [
    "# bool use for True False\n",
    "x = True\n",
    "y = False\n",
    "print(x, y)\n",
    "print(type(x))"
   ]
  },
  {
   "cell_type": "markdown",
   "id": "b65c4c33",
   "metadata": {},
   "source": [
    "### List "
   ]
  },
  {
   "cell_type": "code",
   "execution_count": 56,
   "id": "d30b0fbc",
   "metadata": {},
   "outputs": [
    {
     "name": "stdout",
     "output_type": "stream",
     "text": [
      "['Banana', 20, 34.33, True]\n",
      "<class 'list'>\n"
     ]
    }
   ],
   "source": [
    "# list use to collect items\n",
    "x = [\"Banana\", 20, 34.33, True]\n",
    "print(x)\n",
    "print(type(x))"
   ]
  },
  {
   "cell_type": "markdown",
   "id": "7584585d",
   "metadata": {},
   "source": [
    "### Tuple "
   ]
  },
  {
   "cell_type": "code",
   "execution_count": 57,
   "id": "92661691",
   "metadata": {},
   "outputs": [
    {
     "name": "stdout",
     "output_type": "stream",
     "text": [
      "('Banana', 20, 23.44, False)\n",
      "<class 'tuple'>\n"
     ]
    }
   ],
   "source": [
    "# tuple use to collect items\n",
    "\n",
    "x = (\"Banana\", 20, 23.44, False)\n",
    "print(x)\n",
    "print(type(x))"
   ]
  },
  {
   "cell_type": "markdown",
   "id": "18ec87dd",
   "metadata": {},
   "source": [
    "### Dictionary "
   ]
  },
  {
   "cell_type": "code",
   "execution_count": 58,
   "id": "aa77ac3e",
   "metadata": {},
   "outputs": [
    {
     "name": "stdout",
     "output_type": "stream",
     "text": [
      "Monday\n",
      "Thuesday\n"
     ]
    }
   ],
   "source": [
    "day = {\"Mon\": \"Monday\", \n",
    "       \"Tue\": \"Tuesday\", \n",
    "       \"Wed\": \"Wednesday\", \n",
    "       \"Thu\": \"Thuesday\", \n",
    "       \"Fri\": \"Friday\", \n",
    "       \"Sat\": \"Saturday\", \n",
    "       \"Sun\": \"Sunday\"}\n",
    "print(day[\"Mon\"])\n",
    "print(day[\"Thu\"])"
   ]
  },
  {
   "cell_type": "code",
   "execution_count": 59,
   "id": "f06b6a25",
   "metadata": {},
   "outputs": [
    {
     "name": "stdout",
     "output_type": "stream",
     "text": [
      "{'name': 'Philip', 'age': 20, 'major': 'IT'}\n",
      "<class 'dict'>\n"
     ]
    }
   ],
   "source": [
    "# Dictionary used to store data values in key:value pairs\n",
    "x = {\"name\": \"Philip\", \"age\": 20, \"major\": \"IT\"}\n",
    "print(x)\n",
    "print(type(x))"
   ]
  },
  {
   "cell_type": "markdown",
   "id": "abd22a4d",
   "metadata": {},
   "source": [
    "## Working with Srting"
   ]
  },
  {
   "cell_type": "code",
   "execution_count": 60,
   "id": "576b1116",
   "metadata": {},
   "outputs": [
    {
     "name": "stdout",
     "output_type": "stream",
     "text": [
      "Kridsadee Imarom\n"
     ]
    }
   ],
   "source": [
    "print (\"Kridsadee Imarom\")"
   ]
  },
  {
   "cell_type": "code",
   "execution_count": 61,
   "id": "391e01d6",
   "metadata": {},
   "outputs": [
    {
     "name": "stdout",
     "output_type": "stream",
     "text": [
      "Kridsadee Imarom\n",
      "----------------------------------------\n",
      "Kridsadee\n",
      "Imarom\n",
      "----------------------------------------\n",
      "Kridsadee's phone\n",
      "----------------------------------------\n",
      "Kridsadee\\ Imarom\n",
      "----------------------------------------\n",
      "Kridsadee\t Imarom\t Philip\t New\n"
     ]
    }
   ],
   "source": [
    "print(\"Kridsadee Imarom\")\n",
    "print(\"----------------------------------------\")\n",
    "print(\"Kridsadee\\nImarom\")\n",
    "print(\"----------------------------------------\")\n",
    "print(\"Kridsadee\\'s phone\")\n",
    "print(\"----------------------------------------\")\n",
    "print(\"Kridsadee\\\\ Imarom\")\n",
    "print(\"----------------------------------------\")\n",
    "print(\"Kridsadee\\t Imarom\\t Philip\\t New\") "
   ]
  },
  {
   "cell_type": "code",
   "execution_count": 62,
   "id": "bda30ef0",
   "metadata": {},
   "outputs": [
    {
     "name": "stdout",
     "output_type": "stream",
     "text": [
      "Kridsadee Imarom\n"
     ]
    }
   ],
   "source": [
    "Name = \"Kridsadee Imarom\"\n",
    "print(Name)"
   ]
  },
  {
   "cell_type": "code",
   "execution_count": 63,
   "id": "9d51faa8",
   "metadata": {},
   "outputs": [
    {
     "name": "stdout",
     "output_type": "stream",
     "text": [
      "Kridsadee Imaromis cool\n"
     ]
    }
   ],
   "source": [
    "print(Name + \"is cool\")"
   ]
  },
  {
   "cell_type": "markdown",
   "id": "d60ec4ae",
   "metadata": {},
   "source": [
    "### Lower case and Upper cae "
   ]
  },
  {
   "cell_type": "code",
   "execution_count": 64,
   "id": "144df199",
   "metadata": {},
   "outputs": [
    {
     "name": "stdout",
     "output_type": "stream",
     "text": [
      "kridsadee imarom\n"
     ]
    }
   ],
   "source": [
    "# Make the character to lower case\n",
    "print(Name.lower())"
   ]
  },
  {
   "cell_type": "code",
   "execution_count": 65,
   "id": "646b5ad7",
   "metadata": {},
   "outputs": [
    {
     "name": "stdout",
     "output_type": "stream",
     "text": [
      "KRIDSADEE IMAROM\n"
     ]
    }
   ],
   "source": [
    "# Make the character to upper case\n",
    "print(Name.upper())"
   ]
  },
  {
   "cell_type": "code",
   "execution_count": 66,
   "id": "89ebeeb2",
   "metadata": {},
   "outputs": [
    {
     "name": "stdout",
     "output_type": "stream",
     "text": [
      "False\n"
     ]
    }
   ],
   "source": [
    "# Check the character inside the Nmae is upper case or not\n",
    "print(Name.isupper())"
   ]
  },
  {
   "cell_type": "code",
   "execution_count": 67,
   "id": "9ca4c86f",
   "metadata": {},
   "outputs": [
    {
     "name": "stdout",
     "output_type": "stream",
     "text": [
      "True\n"
     ]
    }
   ],
   "source": [
    "# When you use this the system will run is first print(Name.upper()) that why it comes True\n",
    "print(Name.upper().isupper())"
   ]
  },
  {
   "cell_type": "markdown",
   "id": "1a0314bc",
   "metadata": {},
   "source": [
    "### len "
   ]
  },
  {
   "cell_type": "code",
   "execution_count": 68,
   "id": "bad8e45e",
   "metadata": {},
   "outputs": [
    {
     "name": "stdout",
     "output_type": "stream",
     "text": [
      "16\n"
     ]
    }
   ],
   "source": [
    "# Use for count character inside Name\n",
    "print(len(Name))"
   ]
  },
  {
   "cell_type": "markdown",
   "id": "410df1ce",
   "metadata": {},
   "source": [
    "### index "
   ]
  },
  {
   "cell_type": "code",
   "execution_count": 69,
   "id": "75433a76",
   "metadata": {},
   "outputs": [
    {
     "name": "stdout",
     "output_type": "stream",
     "text": [
      "K\n"
     ]
    }
   ],
   "source": [
    "# Get the first character\n",
    "print(Name[0])"
   ]
  },
  {
   "cell_type": "code",
   "execution_count": 71,
   "id": "19cb7a10",
   "metadata": {},
   "outputs": [
    {
     "name": "stdout",
     "output_type": "stream",
     "text": [
      "Krid\n"
     ]
    }
   ],
   "source": [
    "# Get the first character to fourth character\n",
    "print(Name[0:4])"
   ]
  },
  {
   "cell_type": "code",
   "execution_count": 72,
   "id": "be322fab",
   "metadata": {},
   "outputs": [
    {
     "name": "stdout",
     "output_type": "stream",
     "text": [
      "0\n"
     ]
    }
   ],
   "source": [
    "# Find the position of \"K\"\n",
    "print(Name.index(\"K\"))"
   ]
  },
  {
   "cell_type": "markdown",
   "id": "2193fac7",
   "metadata": {},
   "source": [
    "### replace "
   ]
  },
  {
   "cell_type": "code",
   "execution_count": 73,
   "id": "ce12d986",
   "metadata": {},
   "outputs": [
    {
     "name": "stdout",
     "output_type": "stream",
     "text": [
      "Kridsadee Imarom\n",
      "Phattaraya Imarom\n"
     ]
    }
   ],
   "source": [
    "print(Name.replace(\"Phattaraya\", \"Imarom\"))\n",
    "print(Name.replace(\"Kridsadee\", \"Phattaraya\"))"
   ]
  },
  {
   "cell_type": "markdown",
   "id": "ddb5b5a7",
   "metadata": {},
   "source": [
    "The reason the first print statement doesn't replace \"Kridsadee\" with \"Phattaraya\" is that the original string, Name, does not contain the substring \"Phattaraya\". The replace() method in Python searches for a specified substring within a string and replaces it with another specified value.\n",
    "\n",
    "In your example, the Name variable is assigned the value \"Kridsadee Imarom\". When you call Name.replace(\"Phattaraya\", \"Imarom\"), it attempts to find the substring \"Phattaraya\" within Name and replace it with \"Imarom\". However, since \"Phattaraya\" is not present in the original string, the replace() method doesn't make any changes, and the output remains \"Kridsadee Imarom\".\n",
    "\n",
    "On the other hand, when you call Name.replace(\"Kridsadee\", \"Phattaraya\"), it successfully finds the substring \"Kridsadee\" within Name and replaces it with \"Phattaraya\". Thus, the output of that print statement would be \"Phattaraya Imarom\".  "
   ]
  },
  {
   "cell_type": "markdown",
   "id": "ee35f100",
   "metadata": {},
   "source": [
    "## Working with Number "
   ]
  },
  {
   "cell_type": "code",
   "execution_count": 74,
   "id": "98db7a4b",
   "metadata": {},
   "outputs": [],
   "source": [
    "Num = 20"
   ]
  },
  {
   "cell_type": "code",
   "execution_count": 75,
   "id": "2d66ce33",
   "metadata": {},
   "outputs": [],
   "source": [
    "# If you run this you will get error, you have to convert number to string\n",
    "#print(\"This is my num \" + Num)"
   ]
  },
  {
   "cell_type": "code",
   "execution_count": 76,
   "id": "3e8360cd",
   "metadata": {},
   "outputs": [
    {
     "name": "stdout",
     "output_type": "stream",
     "text": [
      "This is my num 20\n"
     ]
    }
   ],
   "source": [
    "print(\"This is my num \" + str(Num))"
   ]
  },
  {
   "cell_type": "code",
   "execution_count": 77,
   "id": "133e389b",
   "metadata": {
    "scrolled": true
   },
   "outputs": [
    {
     "name": "stdout",
     "output_type": "stream",
     "text": [
      "8\n",
      "-4\n",
      "12\n",
      "0.3333333333333333\n"
     ]
    }
   ],
   "source": [
    "print(2 + 6)\n",
    "print(2 - 6)\n",
    "print(2 * 6)\n",
    "print(2 / 6)"
   ]
  },
  {
   "cell_type": "code",
   "execution_count": 78,
   "id": "1d25e7d8",
   "metadata": {},
   "outputs": [
    {
     "name": "stdout",
     "output_type": "stream",
     "text": [
      "5\n"
     ]
    }
   ],
   "source": [
    "# Show the absolute value \n",
    "Num = -5\n",
    "print(abs(Num))"
   ]
  },
  {
   "cell_type": "code",
   "execution_count": 79,
   "id": "16e5d0d3",
   "metadata": {},
   "outputs": [],
   "source": [
    "num1 = 3\n",
    "num2 = 2"
   ]
  },
  {
   "cell_type": "code",
   "execution_count": 80,
   "id": "2690f395",
   "metadata": {},
   "outputs": [
    {
     "name": "stdout",
     "output_type": "stream",
     "text": [
      "9\n"
     ]
    }
   ],
   "source": [
    "# num1 to power of num2\n",
    "print(pow(num1, num2))"
   ]
  },
  {
   "cell_type": "code",
   "execution_count": 81,
   "id": "a005ad86",
   "metadata": {},
   "outputs": [
    {
     "name": "stdout",
     "output_type": "stream",
     "text": [
      "3\n"
     ]
    }
   ],
   "source": [
    "print(max(num1, num2))"
   ]
  },
  {
   "cell_type": "code",
   "execution_count": 82,
   "id": "61b208fa",
   "metadata": {},
   "outputs": [
    {
     "name": "stdout",
     "output_type": "stream",
     "text": [
      "2\n"
     ]
    }
   ],
   "source": [
    "print(min(num1, num2))"
   ]
  },
  {
   "cell_type": "code",
   "execution_count": 83,
   "id": "b9c03bf0",
   "metadata": {},
   "outputs": [
    {
     "name": "stdout",
     "output_type": "stream",
     "text": [
      "4\n",
      "3\n"
     ]
    }
   ],
   "source": [
    "# Rounds up or down depending on the value of the fraction\n",
    "print(round(3.7))\n",
    "print(round(3.4))"
   ]
  },
  {
   "cell_type": "code",
   "execution_count": 84,
   "id": "119538c0",
   "metadata": {},
   "outputs": [],
   "source": [
    "# Import Python math function \n",
    "from math import *"
   ]
  },
  {
   "cell_type": "code",
   "execution_count": 85,
   "id": "cd909b77",
   "metadata": {},
   "outputs": [
    {
     "name": "stdout",
     "output_type": "stream",
     "text": [
      "4\n",
      "4\n"
     ]
    }
   ],
   "source": [
    "# Rounds up regardlless of the value of the fraction\n",
    "print(ceil(3.6))\n",
    "print(ceil(3.4))"
   ]
  },
  {
   "cell_type": "code",
   "execution_count": 86,
   "id": "b004b826",
   "metadata": {},
   "outputs": [
    {
     "name": "stdout",
     "output_type": "stream",
     "text": [
      "3\n",
      "3\n"
     ]
    }
   ],
   "source": [
    "#Rounds down regardlless of the value of the fraction\n",
    "print(floor(3.6))\n",
    "print(floor(3.4))"
   ]
  },
  {
   "cell_type": "code",
   "execution_count": 87,
   "id": "b27faf06",
   "metadata": {},
   "outputs": [
    {
     "name": "stdout",
     "output_type": "stream",
     "text": [
      "1.7320508075688772\n"
     ]
    }
   ],
   "source": [
    "# Return the square root of a number\n",
    "print(sqrt(num1))"
   ]
  },
  {
   "cell_type": "code",
   "execution_count": 144,
   "id": "44836b0d",
   "metadata": {},
   "outputs": [
    {
     "name": "stdout",
     "output_type": "stream",
     "text": [
      " Enter your namePhilip\n",
      " Enter your age23\n",
      "Hello Philip!\n",
      " Your are 23\n"
     ]
    }
   ],
   "source": [
    "name = input(\" Enter your name\")\n",
    "age = input(\" Enter your age\")\n",
    "print(\"Hello \" + name + \"!\\n Your are \" + age)"
   ]
  },
  {
   "cell_type": "markdown",
   "id": "aeec79f4",
   "metadata": {},
   "source": [
    "#### Basic Calculator"
   ]
  },
  {
   "cell_type": "code",
   "execution_count": 88,
   "id": "d3a806be",
   "metadata": {},
   "outputs": [
    {
     "name": "stdout",
     "output_type": "stream",
     "text": [
      "Enter Number2\n",
      "Enter Number2\n",
      "4\n"
     ]
    }
   ],
   "source": [
    "num1 = int(input(\"Enter Number\"))\n",
    "num2 = int(input(\"Enter Number\"))\n",
    "result = num1 + num2\n",
    "print(result)"
   ]
  },
  {
   "cell_type": "markdown",
   "id": "23b4958d",
   "metadata": {},
   "source": [
    "### Mad Libs Game "
   ]
  },
  {
   "cell_type": "markdown",
   "id": "279443f1",
   "metadata": {},
   "source": [
    "Once upon a time in a___1____nestled by a sparkling river, \n",
    "there lived a___2___named Lily. \n",
    "She had a wild___3___and a heart full of adventure. \n",
    "Every day, she would explore the enchanted___4___that surrounded her___5___, seeking hidden___6___and magical___7___. "
   ]
  },
  {
   "cell_type": "code",
   "execution_count": 93,
   "id": "99abdc26",
   "metadata": {},
   "outputs": [
    {
     "name": "stdout",
     "output_type": "stream",
     "text": [
      "Enter answer 1: answer\n",
      "Enter answer 2: answer\n",
      "Enter answer 3: answer\n",
      "Enter answer 4: answer\n",
      "Enter answer 5: answer\n",
      "Enter answer 6: answer\n",
      "Enter answer 7: answer\n",
      "Once upon a time in a answer nestled by a sparkling river, there lived a answer named Lily. She had a wild answer and a heart full of adventure. Every day, she would explore the enchanted answer that surrounded her answer , seeking hidden answer and magical answer\n"
     ]
    }
   ],
   "source": [
    "ans1 = input(\"Enter answer 1: \")\n",
    "ans2 = input(\"Enter answer 2: \")\n",
    "ans3 = input(\"Enter answer 3: \")\n",
    "ans4 = input(\"Enter answer 4: \")\n",
    "ans5 = input(\"Enter answer 5: \")\n",
    "ans6 = input(\"Enter answer 6: \")\n",
    "ans7 = input(\"Enter answer 7: \")\n",
    "\n",
    "print(\"Once upon a time in a \" + ans1 + \" nestled by a sparkling river, there lived a \" \n",
    "      + ans2 + \" named Lily. She had a wild \" + ans3 + \n",
    "      \" and a heart full of adventure. Every day, she would explore the enchanted \" \n",
    "      + ans4 + \" that surrounded her \" + ans5 + \" , seeking hidden \" + ans6 + \" and magical \" + ans7)"
   ]
  },
  {
   "cell_type": "markdown",
   "id": "430d603a",
   "metadata": {},
   "source": [
    "## List "
   ]
  },
  {
   "cell_type": "code",
   "execution_count": 94,
   "id": "ddde3dcd",
   "metadata": {},
   "outputs": [],
   "source": [
    "friends = [\"Philip\", \"May\", \"Jaja\" , \"Mac\"]\n",
    "# index       0        1      2        3\n",
    "# - index    -4       -3     -2       -1"
   ]
  },
  {
   "cell_type": "code",
   "execution_count": 95,
   "id": "48782570",
   "metadata": {},
   "outputs": [
    {
     "name": "stdout",
     "output_type": "stream",
     "text": [
      "Jaja\n"
     ]
    }
   ],
   "source": [
    "print(friends[2])"
   ]
  },
  {
   "cell_type": "code",
   "execution_count": 96,
   "id": "497d96a7",
   "metadata": {},
   "outputs": [
    {
     "name": "stdout",
     "output_type": "stream",
     "text": [
      "May\n"
     ]
    }
   ],
   "source": [
    "print(friends[-3])"
   ]
  },
  {
   "cell_type": "code",
   "execution_count": 97,
   "id": "3d697819",
   "metadata": {},
   "outputs": [
    {
     "name": "stdout",
     "output_type": "stream",
     "text": [
      "['May', 'Jaja']\n"
     ]
    }
   ],
   "source": [
    "print(friends[1:3])"
   ]
  },
  {
   "cell_type": "code",
   "execution_count": 98,
   "id": "f51b3aac",
   "metadata": {},
   "outputs": [],
   "source": [
    "lucky_numbers = [2, 4, 6, 8, 10, 12, 14]\n",
    "friends = [\"Philip\", \"Fourth\", \"May\", \"Jaja\" , \"Mac\", \"Cake\"]"
   ]
  },
  {
   "cell_type": "markdown",
   "id": "f2c91d22",
   "metadata": {},
   "source": [
    "#### len "
   ]
  },
  {
   "cell_type": "code",
   "execution_count": 99,
   "id": "371bee83",
   "metadata": {},
   "outputs": [
    {
     "name": "stdout",
     "output_type": "stream",
     "text": [
      "6\n"
     ]
    }
   ],
   "source": [
    "# Count have many value in the lsit\n",
    "print(len(friends))"
   ]
  },
  {
   "cell_type": "markdown",
   "id": "9dfba61a",
   "metadata": {},
   "source": [
    "##### extend"
   ]
  },
  {
   "cell_type": "code",
   "execution_count": 100,
   "id": "1130e6d8",
   "metadata": {},
   "outputs": [
    {
     "name": "stdout",
     "output_type": "stream",
     "text": [
      "['Philip', 'Fourth', 'May', 'Jaja', 'Mac', 'Cake', 2, 4, 6, 8, 10, 12, 14]\n"
     ]
    }
   ],
   "source": [
    "# Add two list togeter\n",
    "friends.extend(lucky_numbers)\n",
    "print(friends)"
   ]
  },
  {
   "cell_type": "code",
   "execution_count": 101,
   "id": "b36de9c3",
   "metadata": {},
   "outputs": [],
   "source": [
    "lucky_numbers = [2, 4, 6, 8, 10, 12, 14]\n",
    "friends = [\"Philip\", \"Fourth\", \"May\", \"Jaja\" , \"Mac\", \"Cake\"]"
   ]
  },
  {
   "cell_type": "markdown",
   "id": "2c881909",
   "metadata": {},
   "source": [
    "#### append"
   ]
  },
  {
   "cell_type": "code",
   "execution_count": 102,
   "id": "e89c7b2b",
   "metadata": {},
   "outputs": [
    {
     "name": "stdout",
     "output_type": "stream",
     "text": [
      "['Philip', 'Fourth', 'May', 'Jaja', 'Mac', 'Cake', 'Nice']\n"
     ]
    }
   ],
   "source": [
    "# Add the value in the end of the list\n",
    "friends.append(\"Nice\")\n",
    "print(friends)"
   ]
  },
  {
   "cell_type": "markdown",
   "id": "7ee4c9a8",
   "metadata": {},
   "source": [
    "#### insert "
   ]
  },
  {
   "cell_type": "code",
   "execution_count": 103,
   "id": "39b29acd",
   "metadata": {},
   "outputs": [
    {
     "name": "stdout",
     "output_type": "stream",
     "text": [
      "['Philip', 'Fourth', 'Fon', 'May', 'Jaja', 'Mac', 'Cake', 'Nice']\n"
     ]
    }
   ],
   "source": [
    "# Add the value on the position you want by set the index\n",
    "friends.insert(2, \"Fon\")\n",
    "print(friends)"
   ]
  },
  {
   "cell_type": "markdown",
   "id": "e7be1f3b",
   "metadata": {},
   "source": [
    "#### remove"
   ]
  },
  {
   "cell_type": "code",
   "execution_count": 104,
   "id": "06b1cd81",
   "metadata": {},
   "outputs": [
    {
     "name": "stdout",
     "output_type": "stream",
     "text": [
      "['Philip', 'Fourth', 'May', 'Jaja', 'Mac', 'Cake', 'Nice']\n"
     ]
    }
   ],
   "source": [
    "# Remove the value\n",
    "friends.remove(\"Fon\")\n",
    "print(friends)"
   ]
  },
  {
   "cell_type": "markdown",
   "id": "61692129",
   "metadata": {},
   "source": [
    "####  clear"
   ]
  },
  {
   "cell_type": "code",
   "execution_count": 105,
   "id": "6cc92589",
   "metadata": {},
   "outputs": [
    {
     "name": "stdout",
     "output_type": "stream",
     "text": [
      "[]\n"
     ]
    }
   ],
   "source": [
    "# Remove all the value in the list\n",
    "friends.clear()\n",
    "print(friends)"
   ]
  },
  {
   "cell_type": "code",
   "execution_count": 106,
   "id": "7ea4a526",
   "metadata": {},
   "outputs": [],
   "source": [
    "lucky_numbers = [2, 12, 4, 8, 0, 6, 10]\n",
    "friends = [\"Philip\", \"Fourth\", \"May\", \"Jaja\" , \"Mac\", \"Cake\"]"
   ]
  },
  {
   "cell_type": "markdown",
   "id": "ec534f86",
   "metadata": {},
   "source": [
    "#### pop"
   ]
  },
  {
   "cell_type": "code",
   "execution_count": 107,
   "id": "69986fad",
   "metadata": {},
   "outputs": [
    {
     "name": "stdout",
     "output_type": "stream",
     "text": [
      "['Philip', 'Fourth', 'May', 'Jaja', 'Mac']\n"
     ]
    }
   ],
   "source": [
    "# Remove the value of the last element\n",
    "friends.pop()\n",
    "print(friends)"
   ]
  },
  {
   "cell_type": "markdown",
   "id": "08c50b04",
   "metadata": {},
   "source": [
    "#### index "
   ]
  },
  {
   "cell_type": "code",
   "execution_count": 108,
   "id": "b429be09",
   "metadata": {},
   "outputs": [
    {
     "name": "stdout",
     "output_type": "stream",
     "text": [
      "2\n"
     ]
    }
   ],
   "source": [
    "# Search the index of value in the list also check if there is the value in the list\n",
    "print(friends.index(\"May\"))"
   ]
  },
  {
   "cell_type": "markdown",
   "id": "e0aeef72",
   "metadata": {},
   "source": [
    "#### count "
   ]
  },
  {
   "cell_type": "code",
   "execution_count": 109,
   "id": "41d6070f",
   "metadata": {},
   "outputs": [
    {
     "name": "stdout",
     "output_type": "stream",
     "text": [
      "1\n"
     ]
    }
   ],
   "source": [
    "# Show how many that value in the list\n",
    "print(friends.count(\"Philip\"))"
   ]
  },
  {
   "cell_type": "markdown",
   "id": "ca1252af",
   "metadata": {},
   "source": [
    "##### in "
   ]
  },
  {
   "cell_type": "code",
   "execution_count": 110,
   "id": "d83fd404",
   "metadata": {},
   "outputs": [
    {
     "name": "stdout",
     "output_type": "stream",
     "text": [
      "True\n",
      "False\n"
     ]
    }
   ],
   "source": [
    "# check that value in the list\n",
    "print(\"Philip\" in friends)\n",
    "print(\"Kaka\" in friends)"
   ]
  },
  {
   "cell_type": "markdown",
   "id": "52529c7e",
   "metadata": {},
   "source": [
    "#### sort "
   ]
  },
  {
   "cell_type": "code",
   "execution_count": 111,
   "id": "e673a49b",
   "metadata": {},
   "outputs": [
    {
     "name": "stdout",
     "output_type": "stream",
     "text": [
      "['Fourth', 'Jaja', 'Mac', 'May', 'Philip']\n",
      "[0, 2, 4, 6, 8, 10, 12]\n"
     ]
    }
   ],
   "source": [
    "# use to sort the alphabet or numbers\n",
    "friends.sort()\n",
    "lucky_numbers.sort()\n",
    "print(friends)\n",
    "print(lucky_numbers)"
   ]
  },
  {
   "cell_type": "markdown",
   "id": "3d7bbd4f",
   "metadata": {},
   "source": [
    "#### reverse "
   ]
  },
  {
   "cell_type": "code",
   "execution_count": 112,
   "id": "8f8a69ad",
   "metadata": {},
   "outputs": [
    {
     "name": "stdout",
     "output_type": "stream",
     "text": [
      "['Philip', 'May', 'Mac', 'Jaja', 'Fourth']\n",
      "[12, 10, 8, 6, 4, 2, 0]\n"
     ]
    }
   ],
   "source": [
    "# use to reverse the alphabet or numbers\n",
    "friends.reverse()\n",
    "lucky_numbers.reverse()\n",
    "print(friends)\n",
    "print(lucky_numbers)"
   ]
  },
  {
   "cell_type": "markdown",
   "id": "74239fd6",
   "metadata": {},
   "source": [
    "#### copy "
   ]
  },
  {
   "cell_type": "code",
   "execution_count": 113,
   "id": "1219bb02",
   "metadata": {},
   "outputs": [
    {
     "name": "stdout",
     "output_type": "stream",
     "text": [
      "[12, 10, 8, 6, 4, 2, 0]\n"
     ]
    }
   ],
   "source": [
    "# Use to copy the list\n",
    "friends2 = lucky_numbers.copy()\n",
    "print(friends2)"
   ]
  },
  {
   "cell_type": "markdown",
   "id": "a6957152",
   "metadata": {},
   "source": [
    "## Tople "
   ]
  },
  {
   "cell_type": "markdown",
   "id": "e0fde1ea",
   "metadata": {},
   "source": [
    "###### In the tople you can not \"change\" \"add\" \"remove\" the value"
   ]
  },
  {
   "cell_type": "code",
   "execution_count": 114,
   "id": "d3ed4c96",
   "metadata": {},
   "outputs": [],
   "source": [
    "lucky_numbers = (2, 12, 4, 8, 0, 6, 10)\n",
    "friends = (\"Philip\", \"Fourth\", \"May\", \"Jaja\" , \"Mac\", \"Cake\")"
   ]
  },
  {
   "cell_type": "markdown",
   "id": "8c541589",
   "metadata": {},
   "source": [
    "##### len "
   ]
  },
  {
   "cell_type": "code",
   "execution_count": 115,
   "id": "1afe2258",
   "metadata": {},
   "outputs": [
    {
     "name": "stdout",
     "output_type": "stream",
     "text": [
      "6\n"
     ]
    }
   ],
   "source": [
    "# count how many value in the tuple\n",
    "print(len(friends))"
   ]
  },
  {
   "cell_type": "markdown",
   "id": "be52f94d",
   "metadata": {},
   "source": [
    "##### index "
   ]
  },
  {
   "cell_type": "code",
   "execution_count": 116,
   "id": "a452284d",
   "metadata": {},
   "outputs": [
    {
     "name": "stdout",
     "output_type": "stream",
     "text": [
      "Philip\n"
     ]
    }
   ],
   "source": [
    "print(friends[0])"
   ]
  },
  {
   "cell_type": "markdown",
   "id": "4f2eec8b",
   "metadata": {},
   "source": [
    "### + "
   ]
  },
  {
   "cell_type": "code",
   "execution_count": 117,
   "id": "b7630b2d",
   "metadata": {},
   "outputs": [
    {
     "name": "stdout",
     "output_type": "stream",
     "text": [
      "('Philip', 'Fourth', 'May', 'Jaja', 'Mac', 'Cake', 2, 12, 4, 8, 0, 6, 10)\n"
     ]
    }
   ],
   "source": [
    "# add two tuple togeter\n",
    "add = friends + lucky_numbers\n",
    "print(add)"
   ]
  },
  {
   "cell_type": "markdown",
   "id": "9da33063",
   "metadata": {},
   "source": [
    "##### in "
   ]
  },
  {
   "cell_type": "code",
   "execution_count": 118,
   "id": "8ab1f2f4",
   "metadata": {},
   "outputs": [
    {
     "name": "stdout",
     "output_type": "stream",
     "text": [
      "True\n",
      "False\n"
     ]
    }
   ],
   "source": [
    "# chack if there is that value in the tuple\n",
    "print(\"Philip\" in friends)\n",
    "print(\"Kaka\" in friends)"
   ]
  },
  {
   "cell_type": "markdown",
   "id": "7b5ac407",
   "metadata": {},
   "source": [
    "## Function "
   ]
  },
  {
   "cell_type": "code",
   "execution_count": 119,
   "id": "03cc68f7",
   "metadata": {},
   "outputs": [
    {
     "name": "stdout",
     "output_type": "stream",
     "text": [
      "Hello\n"
     ]
    }
   ],
   "source": [
    "def say_hi():\n",
    "    print(\"Hello\")\n",
    "    \n",
    "say_hi()"
   ]
  },
  {
   "cell_type": "code",
   "execution_count": 120,
   "id": "1215a93a",
   "metadata": {},
   "outputs": [
    {
     "name": "stdout",
     "output_type": "stream",
     "text": [
      "Hello Philip\n",
      "Hello Cake\n"
     ]
    }
   ],
   "source": [
    "def say_hi(name):\n",
    "    print(\"Hello \" + name)\n",
    "    \n",
    "say_hi(\"Philip\")\n",
    "say_hi(\"Cake\")"
   ]
  },
  {
   "cell_type": "code",
   "execution_count": 121,
   "id": "301cfdc5",
   "metadata": {},
   "outputs": [
    {
     "name": "stdout",
     "output_type": "stream",
     "text": [
      "Hello Philip, you are 23 and your major is IT\n",
      "Hello Cake, you are 22 and your major is IBM\n"
     ]
    }
   ],
   "source": [
    "def say_hi(name, age, major):\n",
    "    print(\"Hello \" + name + \", you are \" + str(age) + \" and your major is \" + major)\n",
    "\n",
    "say_hi(\"Philip\", 23, \"IT\")\n",
    "say_hi(\"Cake\", 22, \"IBM\")"
   ]
  },
  {
   "cell_type": "markdown",
   "id": "619e1812",
   "metadata": {},
   "source": [
    "## Return "
   ]
  },
  {
   "cell_type": "code",
   "execution_count": 122,
   "id": "ba1ecd99",
   "metadata": {},
   "outputs": [
    {
     "data": {
      "text/plain": [
       "27"
      ]
     },
     "execution_count": 122,
     "metadata": {},
     "output_type": "execute_result"
    }
   ],
   "source": [
    "def cube(num):\n",
    "    return num*num*num\n",
    "    \n",
    "cube(3)"
   ]
  },
  {
   "cell_type": "markdown",
   "id": "cfbbe480",
   "metadata": {},
   "source": [
    "## If statement"
   ]
  },
  {
   "cell_type": "markdown",
   "id": "56e1b574",
   "metadata": {},
   "source": [
    "###### I wake up If I'm hungry I eat breakfast "
   ]
  },
  {
   "cell_type": "code",
   "execution_count": 123,
   "id": "0731a467",
   "metadata": {},
   "outputs": [
    {
     "name": "stdout",
     "output_type": "stream",
     "text": [
      "I wake up\n",
      "I eat breakfast\n"
     ]
    }
   ],
   "source": [
    "def hungry(is_hungry):\n",
    "    print(\"I wake up\")\n",
    "    if is_hungry:\n",
    "        print(\"I eat breakfast\")\n",
    "\n",
    "hungry(True)    "
   ]
  },
  {
   "cell_type": "markdown",
   "id": "bd017ad0",
   "metadata": {},
   "source": [
    "###### I leave my house if it's cloudy I bring an umbrella otherwise I bring sunglasses  "
   ]
  },
  {
   "cell_type": "code",
   "execution_count": 124,
   "id": "3875314f",
   "metadata": {},
   "outputs": [
    {
     "name": "stdout",
     "output_type": "stream",
     "text": [
      "I leave my house\n",
      "I bring an umbrella\n",
      "\n",
      "I leave my house\n",
      "I bring sunglasses\n"
     ]
    }
   ],
   "source": [
    "def cloudy(is_cloudy):\n",
    "    print(\"I leave my house\")\n",
    "    if is_cloudy:\n",
    "        print(\"I bring an umbrella\")\n",
    "    else:\n",
    "        print(\"I bring sunglasses\")\n",
    "        \n",
    "cloudy(True)\n",
    "print()\n",
    "cloudy(False)"
   ]
  },
  {
   "cell_type": "markdown",
   "id": "5cde50d0",
   "metadata": {},
   "source": [
    "###### I'm at a restaurant if I want meat I order a steak otherwise if I want pasta I order spaghtti & meatballs otherwise I order a salad "
   ]
  },
  {
   "cell_type": "code",
   "execution_count": 125,
   "id": "aeedbfc1",
   "metadata": {},
   "outputs": [
    {
     "name": "stdout",
     "output_type": "stream",
     "text": [
      "I'm at a restaurant\n",
      "I order a steak\n",
      "\n",
      "I'm at a restaurant\n",
      "I order a steak\n",
      "\n",
      "I'm at a restaurant\n",
      "I order spaghtti & meatballs\n",
      "\n",
      "I'm at a restaurant\n",
      "I order a salad\n"
     ]
    }
   ],
   "source": [
    "def food(is_meat, is_pasta):\n",
    "    print(\"I'm at a restaurant\")\n",
    "    if is_meat:\n",
    "        print(\"I order a steak\")\n",
    "    elif is_pasta:\n",
    "        print(\"I order spaghtti & meatballs\")\n",
    "    elif is_meat and is_pasta:\n",
    "        print(\"I order a steak, spaghtti & meatballs \")\n",
    "    else:\n",
    "        print(\"I order a salad\")\n",
    "\n",
    "food(True, False)\n",
    "print()\n",
    "food(True, True)\n",
    "print()\n",
    "food(False, True)\n",
    "print()\n",
    "food(False, False)"
   ]
  },
  {
   "cell_type": "markdown",
   "id": "ea2fd741",
   "metadata": {},
   "source": [
    "##### If statements and comparisons  "
   ]
  },
  {
   "cell_type": "markdown",
   "id": "c9d66448",
   "metadata": {},
   "source": [
    "###### \"Print\" version of the code uses print statements inside the function to directly output the maximum number. This approach is suitable if you only need to display the result on the console and don't intend to use the maximum value in further calculations or operations. "
   ]
  },
  {
   "cell_type": "code",
   "execution_count": 126,
   "id": "82b1d8e9",
   "metadata": {},
   "outputs": [
    {
     "name": "stdout",
     "output_type": "stream",
     "text": [
      "30\n",
      "\n",
      "60\n",
      "\n",
      "80\n"
     ]
    }
   ],
   "source": [
    "def max_num(num1, num2, num3):\n",
    "    if num1 >= num2 and num1 >= num3:\n",
    "        print(num1)\n",
    "    elif num2 >= num1 and num2 >= num3:\n",
    "        print(num2)\n",
    "    else:\n",
    "        print(num3)\n",
    "        \n",
    "max_num(12,23,30)\n",
    "print()\n",
    "max_num(60,40,30)\n",
    "print()\n",
    "max_num(32,80,30)"
   ]
  },
  {
   "cell_type": "markdown",
   "id": "04f315e7",
   "metadata": {},
   "source": [
    "###### \"Return\" version of the code uses return statements to return the maximum number as a result from the function. This allows the maximum value to be assigned to a variable, used in mathematical expressions, or passed as an argument to another function. "
   ]
  },
  {
   "cell_type": "code",
   "execution_count": 149,
   "id": "a47ccac4",
   "metadata": {},
   "outputs": [
    {
     "name": "stdout",
     "output_type": "stream",
     "text": [
      "30\n",
      "\n",
      "60\n",
      "\n",
      "80\n"
     ]
    }
   ],
   "source": [
    "def max_num(num1, num2, num3):\n",
    "    if num1 >= num2 and num1 >= num3:\n",
    "        return num1\n",
    "    elif num2 >= num1 and num2 >= num3:\n",
    "        return num2\n",
    "    else:\n",
    "        return num3\n",
    "        \n",
    "print(max_num(12,23,30))\n",
    "print()\n",
    "print(max_num(60,40,30))\n",
    "print()\n",
    "print(max_num(32,80,30))"
   ]
  },
  {
   "cell_type": "code",
   "execution_count": 153,
   "id": "429d101b",
   "metadata": {},
   "outputs": [
    {
     "name": "stdout",
     "output_type": "stream",
     "text": [
      "60\n",
      "120\n",
      "160\n"
     ]
    }
   ],
   "source": [
    "def multiply_max(num1, num2, num3):\n",
    "    max_number = max_num(num1, num2, num3)\n",
    "    result = max_number * 2\n",
    "    return result\n",
    "\n",
    "print(multiply_max(12, 23, 30))\n",
    "print(multiply_max(60, 40, 30))\n",
    "print(multiply_max(32, 80, 30))"
   ]
  },
  {
   "cell_type": "markdown",
   "id": "ff287ac5",
   "metadata": {},
   "source": [
    "### Better calculator"
   ]
  },
  {
   "cell_type": "code",
   "execution_count": 128,
   "id": "03c684ed",
   "metadata": {},
   "outputs": [
    {
     "name": "stdout",
     "output_type": "stream",
     "text": [
      "Enter Number1:5\n",
      "Enter operator*\n",
      "Enter Number2:5\n",
      "25\n"
     ]
    }
   ],
   "source": [
    "num1 = int(input(\"Enter Number1:\"))\n",
    "op = input(\"Enter operator\")\n",
    "num2 = int(input(\"Enter Number2:\"))\n",
    "\n",
    "if op == \"+\":\n",
    "    print(num1 + num2)\n",
    "elif op == \"-\":\n",
    "    print(num1 - num2)\n",
    "elif op == \"*\":\n",
    "    print(num1 * num2)\n",
    "elif op == \"/\":\n",
    "    print(num1 / num2)\n",
    "else:\n",
    "    print(\"You put the wroung operator\")\n"
   ]
  },
  {
   "cell_type": "markdown",
   "id": "0eeb8ca9",
   "metadata": {},
   "source": [
    "## While loop "
   ]
  },
  {
   "cell_type": "code",
   "execution_count": 129,
   "id": "60f0115e",
   "metadata": {},
   "outputs": [
    {
     "name": "stdout",
     "output_type": "stream",
     "text": [
      "1 Hi\n",
      "2 Hi\n",
      "3 Hi\n",
      "4 Hi\n",
      "5 Hi\n",
      "Done with loop\n"
     ]
    }
   ],
   "source": [
    "i = 1\n",
    "while i <= 5:\n",
    "    print(i, \"Hi\")\n",
    "    i += 1\n",
    "print(\"Done with loop\")"
   ]
  },
  {
   "cell_type": "markdown",
   "id": "d392243c",
   "metadata": {},
   "source": [
    "### Building Guessing Game "
   ]
  },
  {
   "cell_type": "markdown",
   "id": "59edb048",
   "metadata": {},
   "source": [
    "###### set the secret word and define guess for the input from user. Make the loop for user enter the word until correct "
   ]
  },
  {
   "cell_type": "code",
   "execution_count": 130,
   "id": "9e3fd30c",
   "metadata": {},
   "outputs": [
    {
     "name": "stdout",
     "output_type": "stream",
     "text": [
      "Enter guess:asd\n",
      "Enter guess:asd\n",
      "Enter guess:asd\n",
      "Enter guess:asd\n",
      "Enter guess:asd\n",
      "Enter guess:gifaffe\n",
      "Enter guess:giraffe\n",
      "You win!!\n"
     ]
    }
   ],
   "source": [
    "secret_word = \"giraffe\"\n",
    "guess = \"\"\n",
    "\n",
    "while guess != secret_word:\n",
    "    guess = input(\"Enter guess:\")\n",
    "print(\"You win!!\")\n"
   ]
  },
  {
   "cell_type": "markdown",
   "id": "1dd3581e",
   "metadata": {},
   "source": [
    "###### set the limit of guess "
   ]
  },
  {
   "cell_type": "code",
   "execution_count": 131,
   "id": "5a11c7eb",
   "metadata": {},
   "outputs": [
    {
     "name": "stdout",
     "output_type": "stream",
     "text": [
      "Enter guess:sdf\n",
      "Enter guess:sdf\n",
      "Enter guess:sdf\n",
      "Out of Guesses, YOU LOSE!!\n"
     ]
    }
   ],
   "source": [
    "secret_word = \"giraffe\"\n",
    "guess = \"\"\n",
    "guess_count = 0\n",
    "guess_limit = 3\n",
    "out_of_guesses = False\n",
    "\n",
    "while guess != secret_word and not(out_of_guesses):\n",
    "    if guess_count < guess_limit:\n",
    "        guess = input(\"Enter guess:\")\n",
    "        guess_count += 1\n",
    "    else:\n",
    "        out_of_guesses = True\n",
    "if out_of_guesses:\n",
    "    print(\"Out of Guesses, YOU LOSE!!\")\n",
    "else:\n",
    "    print(\"You win!!\")"
   ]
  },
  {
   "cell_type": "code",
   "execution_count": 132,
   "id": "649bee13",
   "metadata": {},
   "outputs": [
    {
     "name": "stdout",
     "output_type": "stream",
     "text": [
      "Enter guess:asdasd\n",
      "Enter guess:giraffe\n",
      "You win!!\n"
     ]
    }
   ],
   "source": [
    "secret_word = \"giraffe\"\n",
    "guess = \"\"\n",
    "guess_count = 0\n",
    "guess_limit = 3\n",
    "out_of_guesses = False\n",
    "\n",
    "while guess != secret_word and not(out_of_guesses):\n",
    "    if guess_count < guess_limit:\n",
    "        guess = input(\"Enter guess:\")\n",
    "        guess_count += 1\n",
    "    else:\n",
    "        out_of_guesses = True\n",
    "if out_of_guesses:\n",
    "    print(\"Out of Guesses, YOU LOSE!!\")\n",
    "else:\n",
    "    print(\"You win!!\")"
   ]
  },
  {
   "cell_type": "markdown",
   "id": "d116bcac",
   "metadata": {},
   "source": [
    "## For loop"
   ]
  },
  {
   "cell_type": "code",
   "execution_count": 133,
   "id": "4c33473a",
   "metadata": {},
   "outputs": [
    {
     "name": "stdout",
     "output_type": "stream",
     "text": [
      "P\n",
      "h\n",
      "i\n",
      "l\n",
      "i\n",
      "p\n"
     ]
    }
   ],
   "source": [
    "for letter in \"Philip\":\n",
    "    print(letter)"
   ]
  },
  {
   "cell_type": "code",
   "execution_count": 135,
   "id": "a8473498",
   "metadata": {},
   "outputs": [
    {
     "name": "stdout",
     "output_type": "stream",
     "text": [
      "Philip\n",
      "Fourth\n",
      "May\n",
      "Jaja\n",
      "Mac\n",
      "Cake\n"
     ]
    }
   ],
   "source": [
    "friends = [\"Philip\", \"Fourth\", \"May\", \"Jaja\" , \"Mac\", \"Cake\"]\n",
    "for name in friends:\n",
    "    print(name)"
   ]
  },
  {
   "cell_type": "code",
   "execution_count": 137,
   "id": "aadcd24c",
   "metadata": {},
   "outputs": [
    {
     "name": "stdout",
     "output_type": "stream",
     "text": [
      "0\n",
      "1\n",
      "2\n",
      "3\n",
      "4\n"
     ]
    }
   ],
   "source": [
    "for index in range(5):\n",
    "    print(index)"
   ]
  },
  {
   "cell_type": "code",
   "execution_count": 141,
   "id": "d56eecd2",
   "metadata": {},
   "outputs": [
    {
     "name": "stdout",
     "output_type": "stream",
     "text": [
      "Philip\n",
      "Fourth\n",
      "May\n",
      "Jaja\n",
      "Mac\n",
      "Cake\n"
     ]
    }
   ],
   "source": [
    "for index in range(len(friends)):\n",
    "    print(friends[index])\n",
    "    #print(friends[0])\n",
    "    #print(friends[1])\n",
    "    #print(friends[2])..."
   ]
  },
  {
   "cell_type": "code",
   "execution_count": 142,
   "id": "88f9df0d",
   "metadata": {},
   "outputs": [
    {
     "name": "stdout",
     "output_type": "stream",
     "text": [
      "First Interation\n",
      "Not First\n",
      "Not First\n",
      "Not First\n",
      "Not First\n"
     ]
    }
   ],
   "source": [
    "for index in range(5):\n",
    "    if index == 0:\n",
    "        print(\"First Interation\")\n",
    "    else:\n",
    "        print(\"Not First\")"
   ]
  },
  {
   "cell_type": "markdown",
   "id": "fafa2b35",
   "metadata": {},
   "source": [
    "## Exponent Function "
   ]
  },
  {
   "cell_type": "code",
   "execution_count": 4,
   "id": "438fc3c7",
   "metadata": {},
   "outputs": [
    {
     "name": "stdout",
     "output_type": "stream",
     "text": [
      "16\n"
     ]
    }
   ],
   "source": [
    "def number(base_num, pow_num):\n",
    "    result = 1\n",
    "    for index in range(pow_num):\n",
    "        result = result * base_num\n",
    "    return result\n",
    "print(number(2,4))"
   ]
  },
  {
   "cell_type": "markdown",
   "id": "ada1d905",
   "metadata": {},
   "source": [
    "## 2D List "
   ]
  },
  {
   "cell_type": "code",
   "execution_count": 5,
   "id": "f94ed2d3",
   "metadata": {},
   "outputs": [
    {
     "name": "stdout",
     "output_type": "stream",
     "text": [
      "[[1, 2, 3], [4, 5, 6], [7, 8, 9], [10]]\n"
     ]
    }
   ],
   "source": [
    "number = [\n",
    "    [1,2,3],\n",
    "    [4,5,6],\n",
    "    [7,8,9],\n",
    "    [10]\n",
    "]\n",
    "\n",
    "print(number)"
   ]
  },
  {
   "cell_type": "code",
   "execution_count": 7,
   "id": "8274297b",
   "metadata": {},
   "outputs": [
    {
     "name": "stdout",
     "output_type": "stream",
     "text": [
      "8\n"
     ]
    }
   ],
   "source": [
    "# print(number[row][column])\n",
    "print(number[2][1])"
   ]
  },
  {
   "cell_type": "code",
   "execution_count": 9,
   "id": "53ec5214",
   "metadata": {},
   "outputs": [
    {
     "name": "stdout",
     "output_type": "stream",
     "text": [
      "[1, 2, 3]\n",
      "[4, 5, 6]\n",
      "[7, 8, 9]\n",
      "[10]\n"
     ]
    }
   ],
   "source": [
    "for row in number:\n",
    "    print(row)"
   ]
  },
  {
   "cell_type": "code",
   "execution_count": 10,
   "id": "39e5ab9e",
   "metadata": {},
   "outputs": [
    {
     "name": "stdout",
     "output_type": "stream",
     "text": [
      "1\n",
      "2\n",
      "3\n",
      "4\n",
      "5\n",
      "6\n",
      "7\n",
      "8\n",
      "9\n",
      "10\n"
     ]
    }
   ],
   "source": [
    "for row in number:\n",
    "    for col in row:\n",
    "        print(col)"
   ]
  },
  {
   "cell_type": "markdown",
   "id": "7897e5e6",
   "metadata": {},
   "source": [
    "## Build a Translator "
   ]
  },
  {
   "cell_type": "code",
   "execution_count": 20,
   "id": "c74ec70b",
   "metadata": {},
   "outputs": [
    {
     "name": "stdout",
     "output_type": "stream",
     "text": [
      "Enter your phrase: On the way\n",
      "gn thg wgy\n"
     ]
    }
   ],
   "source": [
    "def translate(phrase):\n",
    "    translation = \"\"\n",
    "    for letter in phrase:\n",
    "        if letter in \"AEIOUaeiou\":\n",
    "            translation = translation + \"g\"\n",
    "        else:\n",
    "            translation = translation + letter\n",
    "    return translation\n",
    "print(translate(input(\"Enter your phrase: \")))"
   ]
  },
  {
   "cell_type": "markdown",
   "id": "65c0e298",
   "metadata": {},
   "source": [
    "##### Upgrade this function"
   ]
  },
  {
   "cell_type": "code",
   "execution_count": 1,
   "id": "4b5c402e",
   "metadata": {},
   "outputs": [],
   "source": [
    "def translate(phrase):\n",
    "    translation = \"\"\n",
    "    for letter in phrase:\n",
    "        if letter.lower() in \"aeiou\":\n",
    "            if letter.isupper():\n",
    "                translation = translation + \"G\"\n",
    "            else:\n",
    "                translation = translation + \"g\"\n",
    "        else:\n",
    "            translation = translation + letter\n",
    "    return translation\n",
    "print(translate(input(\"Enter your phrase: \")))"
   ]
  },
  {
   "cell_type": "markdown",
   "id": "d79f19cf",
   "metadata": {},
   "source": [
    "## Try Eceps"
   ]
  },
  {
   "cell_type": "code",
   "execution_count": 2,
   "id": "717add02",
   "metadata": {},
   "outputs": [],
   "source": [
    "number = int(input(\"Enter a number: \"))\n",
    "print(number)"
   ]
  },
  {
   "cell_type": "markdown",
   "id": "4b6caf17",
   "metadata": {},
   "source": []
  }
 ],
 "metadata": {
  "kernelspec": {
   "display_name": "Python 3 (ipykernel)",
   "language": "python",
   "name": "python3"
  },
  "language_info": {
   "codemirror_mode": {
    "name": "ipython",
    "version": 3
   },
   "file_extension": ".py",
   "mimetype": "text/x-python",
   "name": "python",
   "nbconvert_exporter": "python",
   "pygments_lexer": "ipython3",
   "version": "3.11.3"
  },
  "vscode": {
   "interpreter": {
    "hash": "5238573367df39f7286bb46f9ff5f08f63a01a80960060ce41e3c79b190280fa"
   }
  }
 },
 "nbformat": 4,
 "nbformat_minor": 5
}
