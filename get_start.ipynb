{
 "cells": [
  {
   "cell_type": "markdown",
   "id": "c8de24e4",
   "metadata": {},
   "source": [
    "# Python"
   ]
  },
  {
   "cell_type": "markdown",
   "id": "8c3dcfca",
   "metadata": {},
   "source": [
    "## Data type  "
   ]
  },
  {
   "cell_type": "markdown",
   "id": "87c98095",
   "metadata": {},
   "source": [
    "### String "
   ]
  },
  {
   "cell_type": "code",
   "execution_count": 52,
   "id": "f9c9ad75",
   "metadata": {},
   "outputs": [
    {
     "name": "stdout",
     "output_type": "stream",
     "text": [
      "Hello World\n",
      "<class 'str'>\n"
     ]
    }
   ],
   "source": [
    "# str use for character\n",
    "x = \"Hello World\"\n",
    "print(x)\n",
    "print(type(x))"
   ]
  },
  {
   "cell_type": "markdown",
   "id": "8028be7f",
   "metadata": {},
   "source": [
    "### Integer "
   ]
  },
  {
   "cell_type": "code",
   "execution_count": 53,
   "id": "1aa9ceb4",
   "metadata": {},
   "outputs": [
    {
     "name": "stdout",
     "output_type": "stream",
     "text": [
      "10\n",
      "<class 'int'>\n"
     ]
    }
   ],
   "source": [
    "# int use for whole number\n",
    "x = 10\n",
    "print(x)\n",
    "print(type(x))"
   ]
  },
  {
   "cell_type": "markdown",
   "id": "35821ff5",
   "metadata": {},
   "source": [
    "### Floating"
   ]
  },
  {
   "cell_type": "code",
   "execution_count": 54,
   "id": "d82a7c48",
   "metadata": {},
   "outputs": [
    {
     "name": "stdout",
     "output_type": "stream",
     "text": [
      "10.5\n",
      "<class 'float'>\n"
     ]
    }
   ],
   "source": [
    "# float use for decimal number\n",
    "x = 10.5\n",
    "print(x)\n",
    "print(type(x))"
   ]
  },
  {
   "cell_type": "markdown",
   "id": "24ebce73",
   "metadata": {},
   "source": [
    "### Boolean "
   ]
  },
  {
   "cell_type": "code",
   "execution_count": 55,
   "id": "09c3278b",
   "metadata": {},
   "outputs": [
    {
     "name": "stdout",
     "output_type": "stream",
     "text": [
      "True False\n",
      "<class 'bool'>\n"
     ]
    }
   ],
   "source": [
    "# bool use for True False\n",
    "x = True\n",
    "y = False\n",
    "print(x, y)\n",
    "print(type(x))"
   ]
  },
  {
   "cell_type": "markdown",
   "id": "b65c4c33",
   "metadata": {},
   "source": [
    "### List "
   ]
  },
  {
   "cell_type": "code",
   "execution_count": 56,
   "id": "d30b0fbc",
   "metadata": {},
   "outputs": [
    {
     "name": "stdout",
     "output_type": "stream",
     "text": [
      "['Banana', 20, 34.33, True]\n",
      "<class 'list'>\n"
     ]
    }
   ],
   "source": [
    "# list use to collect items\n",
    "x = [\"Banana\", 20, 34.33, True]\n",
    "print(x)\n",
    "print(type(x))"
   ]
  },
  {
   "cell_type": "markdown",
   "id": "7584585d",
   "metadata": {},
   "source": [
    "### Tuple "
   ]
  },
  {
   "cell_type": "code",
   "execution_count": 57,
   "id": "92661691",
   "metadata": {},
   "outputs": [
    {
     "name": "stdout",
     "output_type": "stream",
     "text": [
      "('Banana', 20, 23.44, False)\n",
      "<class 'tuple'>\n"
     ]
    }
   ],
   "source": [
    "# tuple use to collect items\n",
    "\n",
    "x = (\"Banana\", 20, 23.44, False)\n",
    "print(x)\n",
    "print(type(x))"
   ]
  },
  {
   "cell_type": "markdown",
   "id": "18ec87dd",
   "metadata": {},
   "source": [
    "### Dictionary "
   ]
  },
  {
   "cell_type": "code",
   "execution_count": 58,
   "id": "aa77ac3e",
   "metadata": {},
   "outputs": [
    {
     "name": "stdout",
     "output_type": "stream",
     "text": [
      "Monday\n",
      "Thuesday\n"
     ]
    }
   ],
   "source": [
    "day = {\"Mon\": \"Monday\", \n",
    "       \"Tue\": \"Tuesday\", \n",
    "       \"Wed\": \"Wednesday\", \n",
    "       \"Thu\": \"Thuesday\", \n",
    "       \"Fri\": \"Friday\", \n",
    "       \"Sat\": \"Saturday\", \n",
    "       \"Sun\": \"Sunday\"}\n",
    "print(day[\"Mon\"])\n",
    "print(day[\"Thu\"])"
   ]
  },
  {
   "cell_type": "code",
   "execution_count": 59,
   "id": "f06b6a25",
   "metadata": {},
   "outputs": [
    {
     "name": "stdout",
     "output_type": "stream",
     "text": [
      "{'name': 'Philip', 'age': 20, 'major': 'IT'}\n",
      "<class 'dict'>\n"
     ]
    }
   ],
   "source": [
    "# Dictionary used to store data values in key:value pairs\n",
    "x = {\"name\": \"Philip\", \"age\": 20, \"major\": \"IT\"}\n",
    "print(x)\n",
    "print(type(x))"
   ]
  },
  {
   "cell_type": "markdown",
   "id": "abd22a4d",
   "metadata": {},
   "source": [
    "## Working with Srting"
   ]
  },
  {
   "cell_type": "code",
   "execution_count": 60,
   "id": "576b1116",
   "metadata": {},
   "outputs": [
    {
     "name": "stdout",
     "output_type": "stream",
     "text": [
      "Kridsadee Imarom\n"
     ]
    }
   ],
   "source": [
    "print (\"Kridsadee Imarom\")"
   ]
  },
  {
   "cell_type": "code",
   "execution_count": 61,
   "id": "391e01d6",
   "metadata": {},
   "outputs": [
    {
     "name": "stdout",
     "output_type": "stream",
     "text": [
      "Kridsadee Imarom\n",
      "----------------------------------------\n",
      "Kridsadee\n",
      "Imarom\n",
      "----------------------------------------\n",
      "Kridsadee's phone\n",
      "----------------------------------------\n",
      "Kridsadee\\ Imarom\n",
      "----------------------------------------\n",
      "Kridsadee\t Imarom\t Philip\t New\n"
     ]
    }
   ],
   "source": [
    "print(\"Kridsadee Imarom\")\n",
    "print(\"----------------------------------------\")\n",
    "print(\"Kridsadee\\nImarom\")\n",
    "print(\"----------------------------------------\")\n",
    "print(\"Kridsadee\\'s phone\")\n",
    "print(\"----------------------------------------\")\n",
    "print(\"Kridsadee\\\\ Imarom\")\n",
    "print(\"----------------------------------------\")\n",
    "print(\"Kridsadee\\t Imarom\\t Philip\\t New\") "
   ]
  },
  {
   "cell_type": "code",
   "execution_count": 62,
   "id": "bda30ef0",
   "metadata": {},
   "outputs": [
    {
     "name": "stdout",
     "output_type": "stream",
     "text": [
      "Kridsadee Imarom\n"
     ]
    }
   ],
   "source": [
    "Name = \"Kridsadee Imarom\"\n",
    "print(Name)"
   ]
  },
  {
   "cell_type": "code",
   "execution_count": 63,
   "id": "9d51faa8",
   "metadata": {},
   "outputs": [
    {
     "name": "stdout",
     "output_type": "stream",
     "text": [
      "Kridsadee Imaromis cool\n"
     ]
    }
   ],
   "source": [
    "print(Name + \"is cool\")"
   ]
  },
  {
   "cell_type": "markdown",
   "id": "d60ec4ae",
   "metadata": {},
   "source": [
    "### Lower case and Upper cae "
   ]
  },
  {
   "cell_type": "code",
   "execution_count": 64,
   "id": "144df199",
   "metadata": {},
   "outputs": [
    {
     "name": "stdout",
     "output_type": "stream",
     "text": [
      "kridsadee imarom\n"
     ]
    }
   ],
   "source": [
    "# Make the character to lower case\n",
    "print(Name.lower())"
   ]
  },
  {
   "cell_type": "code",
   "execution_count": 65,
   "id": "646b5ad7",
   "metadata": {},
   "outputs": [
    {
     "name": "stdout",
     "output_type": "stream",
     "text": [
      "KRIDSADEE IMAROM\n"
     ]
    }
   ],
   "source": [
    "# Make the character to upper case\n",
    "print(Name.upper())"
   ]
  },
  {
   "cell_type": "code",
   "execution_count": 66,
   "id": "89ebeeb2",
   "metadata": {},
   "outputs": [
    {
     "name": "stdout",
     "output_type": "stream",
     "text": [
      "False\n"
     ]
    }
   ],
   "source": [
    "# Check the character inside the Nmae is upper case or not\n",
    "print(Name.isupper())"
   ]
  },
  {
   "cell_type": "code",
   "execution_count": 67,
   "id": "9ca4c86f",
   "metadata": {},
   "outputs": [
    {
     "name": "stdout",
     "output_type": "stream",
     "text": [
      "True\n"
     ]
    }
   ],
   "source": [
    "# When you use this the system will run is first print(Name.upper()) that why it comes True\n",
    "print(Name.upper().isupper())"
   ]
  },
  {
   "cell_type": "markdown",
   "id": "1a0314bc",
   "metadata": {},
   "source": [
    "### len "
   ]
  },
  {
   "cell_type": "code",
   "execution_count": 68,
   "id": "bad8e45e",
   "metadata": {},
   "outputs": [
    {
     "name": "stdout",
     "output_type": "stream",
     "text": [
      "16\n"
     ]
    }
   ],
   "source": [
    "# Use for count character inside Name\n",
    "print(len(Name))"
   ]
  },
  {
   "cell_type": "markdown",
   "id": "410df1ce",
   "metadata": {},
   "source": [
    "### index "
   ]
  },
  {
   "cell_type": "code",
   "execution_count": 69,
   "id": "75433a76",
   "metadata": {},
   "outputs": [
    {
     "name": "stdout",
     "output_type": "stream",
     "text": [
      "K\n"
     ]
    }
   ],
   "source": [
    "# Get the first character\n",
    "print(Name[0])"
   ]
  },
  {
   "cell_type": "code",
   "execution_count": 71,
   "id": "19cb7a10",
   "metadata": {},
   "outputs": [
    {
     "name": "stdout",
     "output_type": "stream",
     "text": [
      "Krid\n"
     ]
    }
   ],
   "source": [
    "# Get the first character to fourth character\n",
    "print(Name[0:4])"
   ]
  },
  {
   "cell_type": "code",
   "execution_count": 72,
   "id": "be322fab",
   "metadata": {},
   "outputs": [
    {
     "name": "stdout",
     "output_type": "stream",
     "text": [
      "0\n"
     ]
    }
   ],
   "source": [
    "# Find the position of \"K\"\n",
    "print(Name.index(\"K\"))"
   ]
  },
  {
   "cell_type": "markdown",
   "id": "2193fac7",
   "metadata": {},
   "source": [
    "### replace "
   ]
  },
  {
   "cell_type": "code",
   "execution_count": 73,
   "id": "ce12d986",
   "metadata": {},
   "outputs": [
    {
     "name": "stdout",
     "output_type": "stream",
     "text": [
      "Kridsadee Imarom\n",
      "Phattaraya Imarom\n"
     ]
    }
   ],
   "source": [
    "print(Name.replace(\"Phattaraya\", \"Imarom\"))\n",
    "print(Name.replace(\"Kridsadee\", \"Phattaraya\"))"
   ]
  },
  {
   "cell_type": "markdown",
   "id": "ddb5b5a7",
   "metadata": {},
   "source": [
    "The reason the first print statement doesn't replace \"Kridsadee\" with \"Phattaraya\" is that the original string, Name, does not contain the substring \"Phattaraya\". The replace() method in Python searches for a specified substring within a string and replaces it with another specified value.\n",
    "\n",
    "In your example, the Name variable is assigned the value \"Kridsadee Imarom\". When you call Name.replace(\"Phattaraya\", \"Imarom\"), it attempts to find the substring \"Phattaraya\" within Name and replace it with \"Imarom\". However, since \"Phattaraya\" is not present in the original string, the replace() method doesn't make any changes, and the output remains \"Kridsadee Imarom\".\n",
    "\n",
    "On the other hand, when you call Name.replace(\"Kridsadee\", \"Phattaraya\"), it successfully finds the substring \"Kridsadee\" within Name and replaces it with \"Phattaraya\". Thus, the output of that print statement would be \"Phattaraya Imarom\".  "
   ]
  },
  {
   "cell_type": "markdown",
   "id": "ee35f100",
   "metadata": {},
   "source": [
    "## Working with Number "
   ]
  },
  {
   "cell_type": "code",
   "execution_count": 74,
   "id": "98db7a4b",
   "metadata": {},
   "outputs": [],
   "source": [
    "Num = 20"
   ]
  },
  {
   "cell_type": "code",
   "execution_count": 75,
   "id": "2d66ce33",
   "metadata": {},
   "outputs": [],
   "source": [
    "# If you run this you will get error, you have to convert number to string\n",
    "#print(\"This is my num \" + Num)"
   ]
  },
  {
   "cell_type": "code",
   "execution_count": 76,
   "id": "3e8360cd",
   "metadata": {},
   "outputs": [
    {
     "name": "stdout",
     "output_type": "stream",
     "text": [
      "This is my num 20\n"
     ]
    }
   ],
   "source": [
    "print(\"This is my num \" + str(Num))"
   ]
  },
  {
   "cell_type": "code",
   "execution_count": 77,
   "id": "133e389b",
   "metadata": {
    "scrolled": true
   },
   "outputs": [
    {
     "name": "stdout",
     "output_type": "stream",
     "text": [
      "8\n",
      "-4\n",
      "12\n",
      "0.3333333333333333\n"
     ]
    }
   ],
   "source": [
    "print(2 + 6)\n",
    "print(2 - 6)\n",
    "print(2 * 6)\n",
    "print(2 / 6)"
   ]
  },
  {
   "cell_type": "code",
   "execution_count": 78,
   "id": "1d25e7d8",
   "metadata": {},
   "outputs": [
    {
     "name": "stdout",
     "output_type": "stream",
     "text": [
      "5\n"
     ]
    }
   ],
   "source": [
    "# Show the absolute value \n",
    "Num = -5\n",
    "print(abs(Num))"
   ]
  },
  {
   "cell_type": "code",
   "execution_count": 79,
   "id": "16e5d0d3",
   "metadata": {},
   "outputs": [],
   "source": [
    "num1 = 3\n",
    "num2 = 2"
   ]
  },
  {
   "cell_type": "code",
   "execution_count": 80,
   "id": "2690f395",
   "metadata": {},
   "outputs": [
    {
     "name": "stdout",
     "output_type": "stream",
     "text": [
      "9\n"
     ]
    }
   ],
   "source": [
    "# num1 to power of num2\n",
    "print(pow(num1, num2))"
   ]
  },
  {
   "cell_type": "code",
   "execution_count": 81,
   "id": "a005ad86",
   "metadata": {},
   "outputs": [
    {
     "name": "stdout",
     "output_type": "stream",
     "text": [
      "3\n"
     ]
    }
   ],
   "source": [
    "print(max(num1, num2))"
   ]
  },
  {
   "cell_type": "code",
   "execution_count": 82,
   "id": "61b208fa",
   "metadata": {},
   "outputs": [
    {
     "name": "stdout",
     "output_type": "stream",
     "text": [
      "2\n"
     ]
    }
   ],
   "source": [
    "print(min(num1, num2))"
   ]
  },
  {
   "cell_type": "code",
   "execution_count": 83,
   "id": "b9c03bf0",
   "metadata": {},
   "outputs": [
    {
     "name": "stdout",
     "output_type": "stream",
     "text": [
      "4\n",
      "3\n"
     ]
    }
   ],
   "source": [
    "# Rounds up or down depending on the value of the fraction\n",
    "print(round(3.7))\n",
    "print(round(3.4))"
   ]
  },
  {
   "cell_type": "code",
   "execution_count": 84,
   "id": "119538c0",
   "metadata": {},
   "outputs": [],
   "source": [
    "# Import Python math function \n",
    "from math import *"
   ]
  },
  {
   "cell_type": "code",
   "execution_count": 85,
   "id": "cd909b77",
   "metadata": {},
   "outputs": [
    {
     "name": "stdout",
     "output_type": "stream",
     "text": [
      "4\n",
      "4\n"
     ]
    }
   ],
   "source": [
    "# Rounds up regardlless of the value of the fraction\n",
    "print(ceil(3.6))\n",
    "print(ceil(3.4))"
   ]
  },
  {
   "cell_type": "code",
   "execution_count": 86,
   "id": "b004b826",
   "metadata": {},
   "outputs": [
    {
     "name": "stdout",
     "output_type": "stream",
     "text": [
      "3\n",
      "3\n"
     ]
    }
   ],
   "source": [
    "#Rounds down regardlless of the value of the fraction\n",
    "print(floor(3.6))\n",
    "print(floor(3.4))"
   ]
  },
  {
   "cell_type": "code",
   "execution_count": 87,
   "id": "b27faf06",
   "metadata": {},
   "outputs": [
    {
     "name": "stdout",
     "output_type": "stream",
     "text": [
      "1.7320508075688772\n"
     ]
    }
   ],
   "source": [
    "# Return the square root of a number\n",
    "print(sqrt(num1))"
   ]
  },
  {
   "cell_type": "code",
   "execution_count": 144,
   "id": "44836b0d",
   "metadata": {},
   "outputs": [
    {
     "name": "stdout",
     "output_type": "stream",
     "text": [
      " Enter your namePhilip\n",
      " Enter your age23\n",
      "Hello Philip!\n",
      " Your are 23\n"
     ]
    }
   ],
   "source": [
    "name = input(\" Enter your name\")\n",
    "age = input(\" Enter your age\")\n",
    "print(\"Hello \" + name + \"!\\n Your are \" + age)"
   ]
  },
  {
   "cell_type": "markdown",
   "id": "aeec79f4",
   "metadata": {},
   "source": [
    "#### Basic Calculator"
   ]
  },
  {
   "cell_type": "code",
   "execution_count": 88,
   "id": "d3a806be",
   "metadata": {},
   "outputs": [
    {
     "name": "stdout",
     "output_type": "stream",
     "text": [
      "Enter Number2\n",
      "Enter Number2\n",
      "4\n"
     ]
    }
   ],
   "source": [
    "num1 = int(input(\"Enter Number\"))\n",
    "num2 = int(input(\"Enter Number\"))\n",
    "result = num1 + num2\n",
    "print(result)"
   ]
  },
  {
   "cell_type": "markdown",
   "id": "23b4958d",
   "metadata": {},
   "source": [
    "### Mad Libs Game "
   ]
  },
  {
   "cell_type": "markdown",
   "id": "279443f1",
   "metadata": {},
   "source": [
    "Once upon a time in a___1____nestled by a sparkling river, \n",
    "there lived a___2___named Lily. \n",
    "She had a wild___3___and a heart full of adventure. \n",
    "Every day, she would explore the enchanted___4___that surrounded her___5___, seeking hidden___6___and magical___7___. "
   ]
  },
  {
   "cell_type": "code",
   "execution_count": 93,
   "id": "99abdc26",
   "metadata": {},
   "outputs": [
    {
     "name": "stdout",
     "output_type": "stream",
     "text": [
      "Enter answer 1: answer\n",
      "Enter answer 2: answer\n",
      "Enter answer 3: answer\n",
      "Enter answer 4: answer\n",
      "Enter answer 5: answer\n",
      "Enter answer 6: answer\n",
      "Enter answer 7: answer\n",
      "Once upon a time in a answer nestled by a sparkling river, there lived a answer named Lily. She had a wild answer and a heart full of adventure. Every day, she would explore the enchanted answer that surrounded her answer , seeking hidden answer and magical answer\n"
     ]
    }
   ],
   "source": [
    "ans1 = input(\"Enter answer 1: \")\n",
    "ans2 = input(\"Enter answer 2: \")\n",
    "ans3 = input(\"Enter answer 3: \")\n",
    "ans4 = input(\"Enter answer 4: \")\n",
    "ans5 = input(\"Enter answer 5: \")\n",
    "ans6 = input(\"Enter answer 6: \")\n",
    "ans7 = input(\"Enter answer 7: \")\n",
    "\n",
    "print(\"Once upon a time in a \" + ans1 + \" nestled by a sparkling river, there lived a \" \n",
    "      + ans2 + \" named Lily. She had a wild \" + ans3 + \n",
    "      \" and a heart full of adventure. Every day, she would explore the enchanted \" \n",
    "      + ans4 + \" that surrounded her \" + ans5 + \" , seeking hidden \" + ans6 + \" and magical \" + ans7)"
   ]
  },
  {
   "cell_type": "markdown",
   "id": "430d603a",
   "metadata": {},
   "source": [
    "## List "
   ]
  },
  {
   "cell_type": "code",
   "execution_count": 94,
   "id": "ddde3dcd",
   "metadata": {},
   "outputs": [],
   "source": [
    "friends = [\"Philip\", \"May\", \"Jaja\" , \"Mac\"]\n",
    "# index       0        1      2        3\n",
    "# - index    -4       -3     -2       -1"
   ]
  },
  {
   "cell_type": "code",
   "execution_count": 95,
   "id": "48782570",
   "metadata": {},
   "outputs": [
    {
     "name": "stdout",
     "output_type": "stream",
     "text": [
      "Jaja\n"
     ]
    }
   ],
   "source": [
    "print(friends[2])"
   ]
  },
  {
   "cell_type": "code",
   "execution_count": 96,
   "id": "497d96a7",
   "metadata": {},
   "outputs": [
    {
     "name": "stdout",
     "output_type": "stream",
     "text": [
      "May\n"
     ]
    }
   ],
   "source": [
    "print(friends[-3])"
   ]
  },
  {
   "cell_type": "code",
   "execution_count": 97,
   "id": "3d697819",
   "metadata": {},
   "outputs": [
    {
     "name": "stdout",
     "output_type": "stream",
     "text": [
      "['May', 'Jaja']\n"
     ]
    }
   ],
   "source": [
    "print(friends[1:3])"
   ]
  },
  {
   "cell_type": "code",
   "execution_count": 98,
   "id": "f51b3aac",
   "metadata": {},
   "outputs": [],
   "source": [
    "lucky_numbers = [2, 4, 6, 8, 10, 12, 14]\n",
    "friends = [\"Philip\", \"Fourth\", \"May\", \"Jaja\" , \"Mac\", \"Cake\"]"
   ]
  },
  {
   "cell_type": "markdown",
   "id": "f2c91d22",
   "metadata": {},
   "source": [
    "#### len "
   ]
  },
  {
   "cell_type": "code",
   "execution_count": 99,
   "id": "371bee83",
   "metadata": {},
   "outputs": [
    {
     "name": "stdout",
     "output_type": "stream",
     "text": [
      "6\n"
     ]
    }
   ],
   "source": [
    "# Count have many value in the lsit\n",
    "print(len(friends))"
   ]
  },
  {
   "cell_type": "markdown",
   "id": "9dfba61a",
   "metadata": {},
   "source": [
    "##### extend"
   ]
  },
  {
   "cell_type": "code",
   "execution_count": 100,
   "id": "1130e6d8",
   "metadata": {},
   "outputs": [
    {
     "name": "stdout",
     "output_type": "stream",
     "text": [
      "['Philip', 'Fourth', 'May', 'Jaja', 'Mac', 'Cake', 2, 4, 6, 8, 10, 12, 14]\n"
     ]
    }
   ],
   "source": [
    "# Add two list togeter\n",
    "friends.extend(lucky_numbers)\n",
    "print(friends)"
   ]
  },
  {
   "cell_type": "code",
   "execution_count": 101,
   "id": "b36de9c3",
   "metadata": {},
   "outputs": [],
   "source": [
    "lucky_numbers = [2, 4, 6, 8, 10, 12, 14]\n",
    "friends = [\"Philip\", \"Fourth\", \"May\", \"Jaja\" , \"Mac\", \"Cake\"]"
   ]
  },
  {
   "cell_type": "markdown",
   "id": "2c881909",
   "metadata": {},
   "source": [
    "#### append"
   ]
  },
  {
   "cell_type": "code",
   "execution_count": 102,
   "id": "e89c7b2b",
   "metadata": {},
   "outputs": [
    {
     "name": "stdout",
     "output_type": "stream",
     "text": [
      "['Philip', 'Fourth', 'May', 'Jaja', 'Mac', 'Cake', 'Nice']\n"
     ]
    }
   ],
   "source": [
    "# Add the value in the end of the list\n",
    "friends.append(\"Nice\")\n",
    "print(friends)"
   ]
  },
  {
   "cell_type": "markdown",
   "id": "7ee4c9a8",
   "metadata": {},
   "source": [
    "#### insert "
   ]
  },
  {
   "cell_type": "code",
   "execution_count": 103,
   "id": "39b29acd",
   "metadata": {},
   "outputs": [
    {
     "name": "stdout",
     "output_type": "stream",
     "text": [
      "['Philip', 'Fourth', 'Fon', 'May', 'Jaja', 'Mac', 'Cake', 'Nice']\n"
     ]
    }
   ],
   "source": [
    "# Add the value on the position you want by set the index\n",
    "friends.insert(2, \"Fon\")\n",
    "print(friends)"
   ]
  },
  {
   "cell_type": "markdown",
   "id": "e7be1f3b",
   "metadata": {},
   "source": [
    "#### remove"
   ]
  },
  {
   "cell_type": "code",
   "execution_count": 104,
   "id": "06b1cd81",
   "metadata": {},
   "outputs": [
    {
     "name": "stdout",
     "output_type": "stream",
     "text": [
      "['Philip', 'Fourth', 'May', 'Jaja', 'Mac', 'Cake', 'Nice']\n"
     ]
    }
   ],
   "source": [
    "# Remove the value\n",
    "friends.remove(\"Fon\")\n",
    "print(friends)"
   ]
  },
  {
   "cell_type": "markdown",
   "id": "61692129",
   "metadata": {},
   "source": [
    "####  clear"
   ]
  },
  {
   "cell_type": "code",
   "execution_count": 105,
   "id": "6cc92589",
   "metadata": {},
   "outputs": [
    {
     "name": "stdout",
     "output_type": "stream",
     "text": [
      "[]\n"
     ]
    }
   ],
   "source": [
    "# Remove all the value in the list\n",
    "friends.clear()\n",
    "print(friends)"
   ]
  },
  {
   "cell_type": "code",
   "execution_count": 106,
   "id": "7ea4a526",
   "metadata": {},
   "outputs": [],
   "source": [
    "lucky_numbers = [2, 12, 4, 8, 0, 6, 10]\n",
    "friends = [\"Philip\", \"Fourth\", \"May\", \"Jaja\" , \"Mac\", \"Cake\"]"
   ]
  },
  {
   "cell_type": "markdown",
   "id": "ec534f86",
   "metadata": {},
   "source": [
    "#### pop"
   ]
  },
  {
   "cell_type": "code",
   "execution_count": 107,
   "id": "69986fad",
   "metadata": {},
   "outputs": [
    {
     "name": "stdout",
     "output_type": "stream",
     "text": [
      "['Philip', 'Fourth', 'May', 'Jaja', 'Mac']\n"
     ]
    }
   ],
   "source": [
    "# Remove the value of the last element\n",
    "friends.pop()\n",
    "print(friends)"
   ]
  },
  {
   "cell_type": "markdown",
   "id": "08c50b04",
   "metadata": {},
   "source": [
    "#### index "
   ]
  },
  {
   "cell_type": "code",
   "execution_count": 108,
   "id": "b429be09",
   "metadata": {},
   "outputs": [
    {
     "name": "stdout",
     "output_type": "stream",
     "text": [
      "2\n"
     ]
    }
   ],
   "source": [
    "# Search the index of value in the list also check if there is the value in the list\n",
    "print(friends.index(\"May\"))"
   ]
  },
  {
   "cell_type": "markdown",
   "id": "e0aeef72",
   "metadata": {},
   "source": [
    "#### count "
   ]
  },
  {
   "cell_type": "code",
   "execution_count": 109,
   "id": "41d6070f",
   "metadata": {},
   "outputs": [
    {
     "name": "stdout",
     "output_type": "stream",
     "text": [
      "1\n"
     ]
    }
   ],
   "source": [
    "# Show how many that value in the list\n",
    "print(friends.count(\"Philip\"))"
   ]
  },
  {
   "cell_type": "markdown",
   "id": "ca1252af",
   "metadata": {},
   "source": [
    "##### in "
   ]
  },
  {
   "cell_type": "code",
   "execution_count": 110,
   "id": "d83fd404",
   "metadata": {},
   "outputs": [
    {
     "name": "stdout",
     "output_type": "stream",
     "text": [
      "True\n",
      "False\n"
     ]
    }
   ],
   "source": [
    "# check that value in the list\n",
    "print(\"Philip\" in friends)\n",
    "print(\"Kaka\" in friends)"
   ]
  },
  {
   "cell_type": "markdown",
   "id": "52529c7e",
   "metadata": {},
   "source": [
    "#### sort "
   ]
  },
  {
   "cell_type": "code",
   "execution_count": 111,
   "id": "e673a49b",
   "metadata": {},
   "outputs": [
    {
     "name": "stdout",
     "output_type": "stream",
     "text": [
      "['Fourth', 'Jaja', 'Mac', 'May', 'Philip']\n",
      "[0, 2, 4, 6, 8, 10, 12]\n"
     ]
    }
   ],
   "source": [
    "# use to sort the alphabet or numbers\n",
    "friends.sort()\n",
    "lucky_numbers.sort()\n",
    "print(friends)\n",
    "print(lucky_numbers)"
   ]
  },
  {
   "cell_type": "markdown",
   "id": "3d7bbd4f",
   "metadata": {},
   "source": [
    "#### reverse "
   ]
  },
  {
   "cell_type": "code",
   "execution_count": 112,
   "id": "8f8a69ad",
   "metadata": {},
   "outputs": [
    {
     "name": "stdout",
     "output_type": "stream",
     "text": [
      "['Philip', 'May', 'Mac', 'Jaja', 'Fourth']\n",
      "[12, 10, 8, 6, 4, 2, 0]\n"
     ]
    }
   ],
   "source": [
    "# use to reverse the alphabet or numbers\n",
    "friends.reverse()\n",
    "lucky_numbers.reverse()\n",
    "print(friends)\n",
    "print(lucky_numbers)"
   ]
  },
  {
   "cell_type": "markdown",
   "id": "74239fd6",
   "metadata": {},
   "source": [
    "#### copy "
   ]
  },
  {
   "cell_type": "code",
   "execution_count": 113,
   "id": "1219bb02",
   "metadata": {},
   "outputs": [
    {
     "name": "stdout",
     "output_type": "stream",
     "text": [
      "[12, 10, 8, 6, 4, 2, 0]\n"
     ]
    }
   ],
   "source": [
    "# Use to copy the list\n",
    "friends2 = lucky_numbers.copy()\n",
    "print(friends2)"
   ]
  },
  {
   "cell_type": "markdown",
   "id": "a6957152",
   "metadata": {},
   "source": [
    "## Tople "
   ]
  },
  {
   "cell_type": "markdown",
   "id": "e0fde1ea",
   "metadata": {},
   "source": [
    "###### In the tople you can not \"change\" \"add\" \"remove\" the value"
   ]
  },
  {
   "cell_type": "code",
   "execution_count": 114,
   "id": "d3ed4c96",
   "metadata": {},
   "outputs": [],
   "source": [
    "lucky_numbers = (2, 12, 4, 8, 0, 6, 10)\n",
    "friends = (\"Philip\", \"Fourth\", \"May\", \"Jaja\" , \"Mac\", \"Cake\")"
   ]
  },
  {
   "cell_type": "markdown",
   "id": "8c541589",
   "metadata": {},
   "source": [
    "##### len "
   ]
  },
  {
   "cell_type": "code",
   "execution_count": 115,
   "id": "1afe2258",
   "metadata": {},
   "outputs": [
    {
     "name": "stdout",
     "output_type": "stream",
     "text": [
      "6\n"
     ]
    }
   ],
   "source": [
    "# count how many value in the tuple\n",
    "print(len(friends))"
   ]
  },
  {
   "cell_type": "markdown",
   "id": "be52f94d",
   "metadata": {},
   "source": [
    "##### index "
   ]
  },
  {
   "cell_type": "code",
   "execution_count": 116,
   "id": "a452284d",
   "metadata": {},
   "outputs": [
    {
     "name": "stdout",
     "output_type": "stream",
     "text": [
      "Philip\n"
     ]
    }
   ],
   "source": [
    "print(friends[0])"
   ]
  },
  {
   "cell_type": "markdown",
   "id": "4f2eec8b",
   "metadata": {},
   "source": [
    "### + "
   ]
  },
  {
   "cell_type": "code",
   "execution_count": 117,
   "id": "b7630b2d",
   "metadata": {},
   "outputs": [
    {
     "name": "stdout",
     "output_type": "stream",
     "text": [
      "('Philip', 'Fourth', 'May', 'Jaja', 'Mac', 'Cake', 2, 12, 4, 8, 0, 6, 10)\n"
     ]
    }
   ],
   "source": [
    "# add two tuple togeter\n",
    "add = friends + lucky_numbers\n",
    "print(add)"
   ]
  },
  {
   "cell_type": "markdown",
   "id": "9da33063",
   "metadata": {},
   "source": [
    "##### in "
   ]
  },
  {
   "cell_type": "code",
   "execution_count": 118,
   "id": "8ab1f2f4",
   "metadata": {},
   "outputs": [
    {
     "name": "stdout",
     "output_type": "stream",
     "text": [
      "True\n",
      "False\n"
     ]
    }
   ],
   "source": [
    "# chack if there is that value in the tuple\n",
    "print(\"Philip\" in friends)\n",
    "print(\"Kaka\" in friends)"
   ]
  },
  {
   "cell_type": "markdown",
   "id": "7b5ac407",
   "metadata": {},
   "source": [
    "## Function "
   ]
  },
  {
   "cell_type": "code",
   "execution_count": 119,
   "id": "03cc68f7",
   "metadata": {},
   "outputs": [
    {
     "name": "stdout",
     "output_type": "stream",
     "text": [
      "Hello\n"
     ]
    }
   ],
   "source": [
    "def say_hi():\n",
    "    print(\"Hello\")\n",
    "    \n",
    "say_hi()"
   ]
  },
  {
   "cell_type": "code",
   "execution_count": 120,
   "id": "1215a93a",
   "metadata": {},
   "outputs": [
    {
     "name": "stdout",
     "output_type": "stream",
     "text": [
      "Hello Philip\n",
      "Hello Cake\n"
     ]
    }
   ],
   "source": [
    "def say_hi(name):\n",
    "    print(\"Hello \" + name)\n",
    "    \n",
    "say_hi(\"Philip\")\n",
    "say_hi(\"Cake\")"
   ]
  },
  {
   "cell_type": "code",
   "execution_count": 121,
   "id": "301cfdc5",
   "metadata": {},
   "outputs": [
    {
     "name": "stdout",
     "output_type": "stream",
     "text": [
      "Hello Philip, you are 23 and your major is IT\n",
      "Hello Cake, you are 22 and your major is IBM\n"
     ]
    }
   ],
   "source": [
    "def say_hi(name, age, major):\n",
    "    print(\"Hello \" + name + \", you are \" + str(age) + \" and your major is \" + major)\n",
    "\n",
    "say_hi(\"Philip\", 23, \"IT\")\n",
    "say_hi(\"Cake\", 22, \"IBM\")"
   ]
  },
  {
   "cell_type": "markdown",
   "id": "619e1812",
   "metadata": {},
   "source": [
    "## Return "
   ]
  },
  {
   "cell_type": "code",
   "execution_count": 122,
   "id": "ba1ecd99",
   "metadata": {},
   "outputs": [
    {
     "data": {
      "text/plain": [
       "27"
      ]
     },
     "execution_count": 122,
     "metadata": {},
     "output_type": "execute_result"
    }
   ],
   "source": [
    "def cube(num):\n",
    "    return num*num*num\n",
    "    \n",
    "cube(3)"
   ]
  },
  {
   "cell_type": "markdown",
   "id": "cfbbe480",
   "metadata": {},
   "source": [
    "## If statement"
   ]
  },
  {
   "cell_type": "markdown",
   "id": "56e1b574",
   "metadata": {},
   "source": [
    "###### I wake up If I'm hungry I eat breakfast "
   ]
  },
  {
   "cell_type": "code",
   "execution_count": 123,
   "id": "0731a467",
   "metadata": {},
   "outputs": [
    {
     "name": "stdout",
     "output_type": "stream",
     "text": [
      "I wake up\n",
      "I eat breakfast\n"
     ]
    }
   ],
   "source": [
    "def hungry(is_hungry):\n",
    "    print(\"I wake up\")\n",
    "    if is_hungry:\n",
    "        print(\"I eat breakfast\")\n",
    "\n",
    "hungry(True)    "
   ]
  },
  {
   "cell_type": "markdown",
   "id": "bd017ad0",
   "metadata": {},
   "source": [
    "###### I leave my house if it's cloudy I bring an umbrella otherwise I bring sunglasses  "
   ]
  },
  {
   "cell_type": "code",
   "execution_count": 124,
   "id": "3875314f",
   "metadata": {},
   "outputs": [
    {
     "name": "stdout",
     "output_type": "stream",
     "text": [
      "I leave my house\n",
      "I bring an umbrella\n",
      "\n",
      "I leave my house\n",
      "I bring sunglasses\n"
     ]
    }
   ],
   "source": [
    "def cloudy(is_cloudy):\n",
    "    print(\"I leave my house\")\n",
    "    if is_cloudy:\n",
    "        print(\"I bring an umbrella\")\n",
    "    else:\n",
    "        print(\"I bring sunglasses\")\n",
    "        \n",
    "cloudy(True)\n",
    "print()\n",
    "cloudy(False)"
   ]
  },
  {
   "cell_type": "markdown",
   "id": "5cde50d0",
   "metadata": {},
   "source": [
    "###### I'm at a restaurant if I want meat I order a steak otherwise if I want pasta I order spaghtti & meatballs otherwise I order a salad "
   ]
  },
  {
   "cell_type": "code",
   "execution_count": 125,
   "id": "aeedbfc1",
   "metadata": {},
   "outputs": [
    {
     "name": "stdout",
     "output_type": "stream",
     "text": [
      "I'm at a restaurant\n",
      "I order a steak\n",
      "\n",
      "I'm at a restaurant\n",
      "I order a steak\n",
      "\n",
      "I'm at a restaurant\n",
      "I order spaghtti & meatballs\n",
      "\n",
      "I'm at a restaurant\n",
      "I order a salad\n"
     ]
    }
   ],
   "source": [
    "def food(is_meat, is_pasta):\n",
    "    print(\"I'm at a restaurant\")\n",
    "    if is_meat:\n",
    "        print(\"I order a steak\")\n",
    "    elif is_pasta:\n",
    "        print(\"I order spaghtti & meatballs\")\n",
    "    elif is_meat and is_pasta:\n",
    "        print(\"I order a steak, spaghtti & meatballs \")\n",
    "    else:\n",
    "        print(\"I order a salad\")\n",
    "\n",
    "food(True, False)\n",
    "print()\n",
    "food(True, True)\n",
    "print()\n",
    "food(False, True)\n",
    "print()\n",
    "food(False, False)"
   ]
  },
  {
   "cell_type": "markdown",
   "id": "ea2fd741",
   "metadata": {},
   "source": [
    "##### If statements and comparisons  "
   ]
  },
  {
   "cell_type": "markdown",
   "id": "c9d66448",
   "metadata": {},
   "source": [
    "###### \"Print\" version of the code uses print statements inside the function to directly output the maximum number. This approach is suitable if you only need to display the result on the console and don't intend to use the maximum value in further calculations or operations. "
   ]
  },
  {
   "cell_type": "code",
   "execution_count": 126,
   "id": "82b1d8e9",
   "metadata": {},
   "outputs": [
    {
     "name": "stdout",
     "output_type": "stream",
     "text": [
      "30\n",
      "\n",
      "60\n",
      "\n",
      "80\n"
     ]
    }
   ],
   "source": [
    "def max_num(num1, num2, num3):\n",
    "    if num1 >= num2 and num1 >= num3:\n",
    "        print(num1)\n",
    "    elif num2 >= num1 and num2 >= num3:\n",
    "        print(num2)\n",
    "    else:\n",
    "        print(num3)\n",
    "        \n",
    "max_num(12,23,30)\n",
    "print()\n",
    "max_num(60,40,30)\n",
    "print()\n",
    "max_num(32,80,30)"
   ]
  },
  {
   "cell_type": "markdown",
   "id": "04f315e7",
   "metadata": {},
   "source": [
    "###### \"Return\" version of the code uses return statements to return the maximum number as a result from the function. This allows the maximum value to be assigned to a variable, used in mathematical expressions, or passed as an argument to another function. "
   ]
  },
  {
   "cell_type": "code",
   "execution_count": 149,
   "id": "a47ccac4",
   "metadata": {},
   "outputs": [
    {
     "name": "stdout",
     "output_type": "stream",
     "text": [
      "30\n",
      "\n",
      "60\n",
      "\n",
      "80\n"
     ]
    }
   ],
   "source": [
    "def max_num(num1, num2, num3):\n",
    "    if num1 >= num2 and num1 >= num3:\n",
    "        return num1\n",
    "    elif num2 >= num1 and num2 >= num3:\n",
    "        return num2\n",
    "    else:\n",
    "        return num3\n",
    "        \n",
    "print(max_num(12,23,30))\n",
    "print()\n",
    "print(max_num(60,40,30))\n",
    "print()\n",
    "print(max_num(32,80,30))"
   ]
  },
  {
   "cell_type": "code",
   "execution_count": 153,
   "id": "429d101b",
   "metadata": {},
   "outputs": [
    {
     "name": "stdout",
     "output_type": "stream",
     "text": [
      "60\n",
      "120\n",
      "160\n"
     ]
    }
   ],
   "source": [
    "def multiply_max(num1, num2, num3):\n",
    "    max_number = max_num(num1, num2, num3)\n",
    "    result = max_number * 2\n",
    "    return result\n",
    "\n",
    "print(multiply_max(12, 23, 30))\n",
    "print(multiply_max(60, 40, 30))\n",
    "print(multiply_max(32, 80, 30))"
   ]
  },
  {
   "cell_type": "markdown",
   "id": "ff287ac5",
   "metadata": {},
   "source": [
    "### Better calculator"
   ]
  },
  {
   "cell_type": "code",
   "execution_count": 128,
   "id": "03c684ed",
   "metadata": {},
   "outputs": [
    {
     "name": "stdout",
     "output_type": "stream",
     "text": [
      "Enter Number1:5\n",
      "Enter operator*\n",
      "Enter Number2:5\n",
      "25\n"
     ]
    }
   ],
   "source": [
    "num1 = int(input(\"Enter Number1:\"))\n",
    "op = input(\"Enter operator\")\n",
    "num2 = int(input(\"Enter Number2:\"))\n",
    "\n",
    "if op == \"+\":\n",
    "    print(num1 + num2)\n",
    "elif op == \"-\":\n",
    "    print(num1 - num2)\n",
    "elif op == \"*\":\n",
    "    print(num1 * num2)\n",
    "elif op == \"/\":\n",
    "    print(num1 / num2)\n",
    "else:\n",
    "    print(\"You put the wroung operator\")\n"
   ]
  },
  {
   "cell_type": "markdown",
   "id": "0eeb8ca9",
   "metadata": {},
   "source": [
    "## While loop "
   ]
  },
  {
   "cell_type": "code",
   "execution_count": 129,
   "id": "60f0115e",
   "metadata": {},
   "outputs": [
    {
     "name": "stdout",
     "output_type": "stream",
     "text": [
      "1 Hi\n",
      "2 Hi\n",
      "3 Hi\n",
      "4 Hi\n",
      "5 Hi\n",
      "Done with loop\n"
     ]
    }
   ],
   "source": [
    "i = 1\n",
    "while i <= 5:\n",
    "    print(i, \"Hi\")\n",
    "    i += 1\n",
    "print(\"Done with loop\")"
   ]
  },
  {
   "cell_type": "markdown",
   "id": "d392243c",
   "metadata": {},
   "source": [
    "### Building Guessing Game "
   ]
  },
  {
   "cell_type": "markdown",
   "id": "59edb048",
   "metadata": {},
   "source": [
    "###### set the secret word and define guess for the input from user. Make the loop for user enter the word until correct "
   ]
  },
  {
   "cell_type": "code",
   "execution_count": 53,
   "id": "9e3fd30c",
   "metadata": {},
   "outputs": [
    {
     "name": "stdout",
     "output_type": "stream",
     "text": [
      "Wrong word\n",
      "Wrong word\n",
      "Wrong word\n",
      "Wrong word\n",
      "Wrong word\n",
      "You win!!\n"
     ]
    }
   ],
   "source": [
    "secret_word = \"giraffe\"\n",
    "guess = \"\"\n",
    "\n",
    "while guess != secret_word:\n",
    "    guess = input(\"Enter guess:\")\n",
    "print(\"You win!!\")"
   ]
  },
  {
   "cell_type": "markdown",
   "id": "1dd3581e",
   "metadata": {},
   "source": [
    "###### set the limit of guess "
   ]
  },
  {
   "cell_type": "code",
   "execution_count": 131,
   "id": "5a11c7eb",
   "metadata": {},
   "outputs": [
    {
     "name": "stdout",
     "output_type": "stream",
     "text": [
      "Enter guess:sdf\n",
      "Enter guess:sdf\n",
      "Enter guess:sdf\n",
      "Out of Guesses, YOU LOSE!!\n"
     ]
    }
   ],
   "source": [
    "secret_word = \"giraffe\"\n",
    "guess = \"\"\n",
    "guess_count = 0\n",
    "guess_limit = 3\n",
    "out_of_guesses = False\n",
    "\n",
    "while guess != secret_word and not(out_of_guesses):\n",
    "    if guess_count < guess_limit:\n",
    "        guess = input(\"Enter guess:\")\n",
    "        guess_count += 1\n",
    "    else:\n",
    "        out_of_guesses = True\n",
    "if out_of_guesses:\n",
    "    print(\"Out of Guesses, YOU LOSE!!\")\n",
    "else:\n",
    "    print(\"You win!!\")"
   ]
  },
  {
   "cell_type": "code",
   "execution_count": 132,
   "id": "649bee13",
   "metadata": {},
   "outputs": [
    {
     "name": "stdout",
     "output_type": "stream",
     "text": [
      "Enter guess:asdasd\n",
      "Enter guess:giraffe\n",
      "You win!!\n"
     ]
    }
   ],
   "source": [
    "secret_word = \"giraffe\"\n",
    "guess = \"\"\n",
    "guess_count = 0\n",
    "guess_limit = 3\n",
    "out_of_guesses = False\n",
    "\n",
    "while guess != secret_word and not(out_of_guesses):\n",
    "    if guess_count < guess_limit:\n",
    "        guess = input(\"Enter guess:\")\n",
    "        guess_count += 1\n",
    "    else:\n",
    "        out_of_guesses = True\n",
    "if out_of_guesses:\n",
    "    print(\"Out of Guesses, YOU LOSE!!\")\n",
    "else:\n",
    "    print(\"You win!!\")"
   ]
  },
  {
   "cell_type": "markdown",
   "id": "d116bcac",
   "metadata": {},
   "source": [
    "## For loop"
   ]
  },
  {
   "cell_type": "code",
   "execution_count": 133,
   "id": "4c33473a",
   "metadata": {},
   "outputs": [
    {
     "name": "stdout",
     "output_type": "stream",
     "text": [
      "P\n",
      "h\n",
      "i\n",
      "l\n",
      "i\n",
      "p\n"
     ]
    }
   ],
   "source": [
    "for letter in \"Philip\":\n",
    "    print(letter)"
   ]
  },
  {
   "cell_type": "code",
   "execution_count": 135,
   "id": "a8473498",
   "metadata": {},
   "outputs": [
    {
     "name": "stdout",
     "output_type": "stream",
     "text": [
      "Philip\n",
      "Fourth\n",
      "May\n",
      "Jaja\n",
      "Mac\n",
      "Cake\n"
     ]
    }
   ],
   "source": [
    "friends = [\"Philip\", \"Fourth\", \"May\", \"Jaja\" , \"Mac\", \"Cake\"]\n",
    "for name in friends:\n",
    "    print(name)"
   ]
  },
  {
   "cell_type": "code",
   "execution_count": 137,
   "id": "aadcd24c",
   "metadata": {},
   "outputs": [
    {
     "name": "stdout",
     "output_type": "stream",
     "text": [
      "0\n",
      "1\n",
      "2\n",
      "3\n",
      "4\n"
     ]
    }
   ],
   "source": [
    "for index in range(5):\n",
    "    print(index)"
   ]
  },
  {
   "cell_type": "code",
   "execution_count": 141,
   "id": "d56eecd2",
   "metadata": {},
   "outputs": [
    {
     "name": "stdout",
     "output_type": "stream",
     "text": [
      "Philip\n",
      "Fourth\n",
      "May\n",
      "Jaja\n",
      "Mac\n",
      "Cake\n"
     ]
    }
   ],
   "source": [
    "for index in range(len(friends)):\n",
    "    print(friends[index])\n",
    "    #print(friends[0])\n",
    "    #print(friends[1])\n",
    "    #print(friends[2])..."
   ]
  },
  {
   "cell_type": "code",
   "execution_count": 142,
   "id": "88f9df0d",
   "metadata": {},
   "outputs": [
    {
     "name": "stdout",
     "output_type": "stream",
     "text": [
      "First Interation\n",
      "Not First\n",
      "Not First\n",
      "Not First\n",
      "Not First\n"
     ]
    }
   ],
   "source": [
    "for index in range(5):\n",
    "    if index == 0:\n",
    "        print(\"First Interation\")\n",
    "    else:\n",
    "        print(\"Not First\")"
   ]
  },
  {
   "cell_type": "markdown",
   "id": "fafa2b35",
   "metadata": {},
   "source": [
    "## Exponent Function "
   ]
  },
  {
   "cell_type": "code",
   "execution_count": 4,
   "id": "438fc3c7",
   "metadata": {},
   "outputs": [
    {
     "name": "stdout",
     "output_type": "stream",
     "text": [
      "16\n"
     ]
    }
   ],
   "source": [
    "def number(base_num, pow_num):\n",
    "    result = 1\n",
    "    for index in range(pow_num):\n",
    "        result = result * base_num\n",
    "    return result\n",
    "print(number(2,4))"
   ]
  },
  {
   "cell_type": "markdown",
   "id": "ada1d905",
   "metadata": {},
   "source": [
    "## 2D List "
   ]
  },
  {
   "cell_type": "code",
   "execution_count": 5,
   "id": "f94ed2d3",
   "metadata": {},
   "outputs": [
    {
     "name": "stdout",
     "output_type": "stream",
     "text": [
      "[[1, 2, 3], [4, 5, 6], [7, 8, 9], [10]]\n"
     ]
    }
   ],
   "source": [
    "number = [\n",
    "    [1,2,3],\n",
    "    [4,5,6],\n",
    "    [7,8,9],\n",
    "    [10]\n",
    "]\n",
    "\n",
    "print(number)"
   ]
  },
  {
   "cell_type": "code",
   "execution_count": 7,
   "id": "8274297b",
   "metadata": {},
   "outputs": [
    {
     "name": "stdout",
     "output_type": "stream",
     "text": [
      "8\n"
     ]
    }
   ],
   "source": [
    "# print(number[row][column])\n",
    "print(number[2][1])"
   ]
  },
  {
   "cell_type": "code",
   "execution_count": 9,
   "id": "53ec5214",
   "metadata": {},
   "outputs": [
    {
     "name": "stdout",
     "output_type": "stream",
     "text": [
      "[1, 2, 3]\n",
      "[4, 5, 6]\n",
      "[7, 8, 9]\n",
      "[10]\n"
     ]
    }
   ],
   "source": [
    "for row in number:\n",
    "    print(row)"
   ]
  },
  {
   "cell_type": "code",
   "execution_count": 10,
   "id": "39e5ab9e",
   "metadata": {},
   "outputs": [
    {
     "name": "stdout",
     "output_type": "stream",
     "text": [
      "1\n",
      "2\n",
      "3\n",
      "4\n",
      "5\n",
      "6\n",
      "7\n",
      "8\n",
      "9\n",
      "10\n"
     ]
    }
   ],
   "source": [
    "for row in number:\n",
    "    for col in row:\n",
    "        print(col)"
   ]
  },
  {
   "cell_type": "markdown",
   "id": "7897e5e6",
   "metadata": {},
   "source": [
    "## Build a Translator "
   ]
  },
  {
   "cell_type": "code",
   "execution_count": 20,
   "id": "c74ec70b",
   "metadata": {},
   "outputs": [
    {
     "name": "stdout",
     "output_type": "stream",
     "text": [
      "Enter your phrase: On the way\n",
      "gn thg wgy\n"
     ]
    }
   ],
   "source": [
    "def translate(phrase):\n",
    "    translation = \"\"\n",
    "    for letter in phrase:\n",
    "        if letter in \"AEIOUaeiou\":\n",
    "            translation = translation + \"g\"\n",
    "        else:\n",
    "            translation = translation + letter\n",
    "    return translation\n",
    "print(translate(input(\"Enter your phrase: \")))"
   ]
  },
  {
   "cell_type": "markdown",
   "id": "65c0e298",
   "metadata": {},
   "source": [
    "##### Upgrade this function"
   ]
  },
  {
   "cell_type": "code",
   "execution_count": 1,
   "id": "4b5c402e",
   "metadata": {},
   "outputs": [],
   "source": [
    "def translate(phrase):\n",
    "    translation = \"\"\n",
    "    for letter in phrase:\n",
    "        if letter.lower() in \"aeiou\":\n",
    "            if letter.isupper():\n",
    "                translation = translation + \"G\"\n",
    "            else:\n",
    "                translation = translation + \"g\"\n",
    "        else:\n",
    "            translation = translation + letter\n",
    "    return translation\n",
    "print(translate(input(\"Enter your phrase: \")))"
   ]
  },
  {
   "cell_type": "markdown",
   "id": "d79f19cf",
   "metadata": {},
   "source": [
    "## Try Eceps"
   ]
  },
  {
   "cell_type": "code",
   "execution_count": 9,
   "id": "9c509c6b",
   "metadata": {},
   "outputs": [
    {
     "ename": "ValueError",
     "evalue": "invalid literal for int() with base 10: 'sdasdfsd'",
     "output_type": "error",
     "traceback": [
      "\u001b[1;31m---------------------------------------------------------------------------\u001b[0m",
      "\u001b[1;31mValueError\u001b[0m                                Traceback (most recent call last)",
      "Cell \u001b[1;32mIn[9], line 1\u001b[0m\n\u001b[1;32m----> 1\u001b[0m number \u001b[38;5;241m=\u001b[39m \u001b[38;5;28;43mint\u001b[39;49m\u001b[43m(\u001b[49m\u001b[38;5;28;43minput\u001b[39;49m\u001b[43m(\u001b[49m\u001b[38;5;124;43m\"\u001b[39;49m\u001b[38;5;124;43mEnter number\u001b[39;49m\u001b[38;5;124;43m\"\u001b[39;49m\u001b[43m)\u001b[49m\u001b[43m)\u001b[49m\n\u001b[0;32m      2\u001b[0m \u001b[38;5;28mprint\u001b[39m(number)\n",
      "\u001b[1;31mValueError\u001b[0m: invalid literal for int() with base 10: 'sdasdfsd'"
     ]
    }
   ],
   "source": [
    "# if you dont write number it will not run and show error\n",
    "number = int(input(\"Enter number\"))\n",
    "print(number)\n"
   ]
  },
  {
   "cell_type": "code",
   "execution_count": 7,
   "id": "717add02",
   "metadata": {},
   "outputs": [
    {
     "name": "stdout",
     "output_type": "stream",
     "text": [
      "Invaid Input\n"
     ]
    }
   ],
   "source": [
    "# but if in this will print whatever insite except\n",
    "try:\n",
    "    number = int(input(\"Enter a number: \"))\n",
    "    print(number)\n",
    "except:\n",
    "    print(\"Invaid Input\")"
   ]
  },
  {
   "cell_type": "code",
   "execution_count": 11,
   "id": "ec255f31",
   "metadata": {},
   "outputs": [
    {
     "name": "stdout",
     "output_type": "stream",
     "text": [
      "Divided by zero\n"
     ]
    }
   ],
   "source": [
    "try:\n",
    "    div = 10/0\n",
    "    number = int(input(\"Enter a number: \"))\n",
    "    print(number)\n",
    "except ZeroDivisionError:\n",
    "    print(\"Divided by zero\")\n",
    "except ValueError:\n",
    "    print(\"Invaid Input\")"
   ]
  },
  {
   "cell_type": "code",
   "execution_count": 14,
   "id": "23a1ae17",
   "metadata": {},
   "outputs": [
    {
     "name": "stdout",
     "output_type": "stream",
     "text": [
      "division by zero\n"
     ]
    }
   ],
   "source": [
    "try:\n",
    "    div = 10/0\n",
    "    number = int(input(\"Enter a number: \"))\n",
    "    print(number)\n",
    "except ZeroDivisionError as err :\n",
    "    print(err)\n",
    "except ValueError:\n",
    "    print(\"Invaid Input\")"
   ]
  },
  {
   "cell_type": "markdown",
   "id": "d24d9f3f",
   "metadata": {},
   "source": [
    "## Reading Files"
   ]
  },
  {
   "cell_type": "code",
   "execution_count": 44,
   "id": "77f0032e",
   "metadata": {},
   "outputs": [
    {
     "name": "stdout",
     "output_type": "stream",
     "text": [
      "Emily Thompson\n",
      "Benjamin Davis\n",
      "Olivia Martinez\n",
      "Ethan Wilson\n",
      "Sophia Mitchell\n",
      "Noah Anderson\n",
      "Ava Turner\n",
      "William Clark\n",
      "Mia Rodriguez\n",
      "James Parker\n"
     ]
    }
   ],
   "source": [
    "name_file = open(\"name.text\", \"r\") # \"r\"(read), \"w\"(write), \"a\"(append)\n",
    "print(name_file.read())\n",
    "name_file.close()"
   ]
  },
  {
   "cell_type": "code",
   "execution_count": 40,
   "id": "497e402c",
   "metadata": {},
   "outputs": [
    {
     "name": "stdout",
     "output_type": "stream",
     "text": [
      "Emily Thompson\n",
      "\n"
     ]
    }
   ],
   "source": [
    "name_file = open(\"name.text\", \"r\") # \"r\"(read), \"w\"(write), \"a\"(append)\n",
    "print(name_file.readline())\n",
    "name_file.close()"
   ]
  },
  {
   "cell_type": "code",
   "execution_count": 42,
   "id": "772f748c",
   "metadata": {},
   "outputs": [
    {
     "name": "stdout",
     "output_type": "stream",
     "text": [
      "Ethan Wilson\n",
      "\n"
     ]
    }
   ],
   "source": [
    "name_file = open(\"name.text\", \"r\") # \"r\"(read), \"w\"(write), \"a\"(append)\n",
    "print(name_file.readlines()[3])\n",
    "name_file.close()"
   ]
  },
  {
   "cell_type": "code",
   "execution_count": 46,
   "id": "2185098d",
   "metadata": {},
   "outputs": [
    {
     "name": "stdout",
     "output_type": "stream",
     "text": [
      "Emily Thompson\n",
      "\n",
      "Benjamin Davis\n",
      "\n",
      "Olivia Martinez\n",
      "\n",
      "Ethan Wilson\n",
      "\n",
      "Sophia Mitchell\n",
      "\n",
      "Noah Anderson\n",
      "\n",
      "Ava Turner\n",
      "\n",
      "William Clark\n",
      "\n",
      "Mia Rodriguez\n",
      "\n",
      "James Parker\n"
     ]
    }
   ],
   "source": [
    "name_file = open(\"name.text\", \"r\") # \"r\"(read), \"w\"(write), \"a\"(append)\n",
    "for name in name_file.readlines():\n",
    "    print(name)\n",
    "name_file.close()\n"
   ]
  },
  {
   "cell_type": "markdown",
   "id": "b713c156",
   "metadata": {},
   "source": [
    "## Writing Files"
   ]
  },
  {
   "cell_type": "code",
   "execution_count": 47,
   "id": "f113fbc2",
   "metadata": {},
   "outputs": [],
   "source": [
    "# when you use \"w\" it will override entire file\n",
    "name_file = open(\"name.text\", \"w\")\n",
    "name_file.write(\"Kridsadee Imarom\")\n",
    "name_file.close()"
   ]
  },
  {
   "cell_type": "code",
   "execution_count": 51,
   "id": "1480ef00",
   "metadata": {},
   "outputs": [],
   "source": [
    "# But if you use \"a\" it will add what you write and keep whatever insite your files\n",
    "name_file = open(\"name.text\", \"a\")\n",
    "name_file.write(\"\\nKridsadee Imarom\")\n",
    "name_file.close()"
   ]
  },
  {
   "cell_type": "markdown",
   "id": "431b3d7d",
   "metadata": {},
   "source": [
    "## Modules and Pip"
   ]
  },
  {
   "cell_type": "markdown",
   "id": "c87aeb8c",
   "metadata": {},
   "source": [
    "##### go the game_function.py and menu_page.py file"
   ]
  },
  {
   "cell_type": "markdown",
   "id": "4e1f646e",
   "metadata": {},
   "source": [
    "<p style=\"color: skyblue;\">Module is a file containing Python code that defines functions, classes, and variables that can be reused in different programs. Modules provide a way to organize and reuse code, making it easier to manage and maintain large Python projects.<br>\n",
    "Python comes with a standard library that includes a wide range of modules covering various functionalities. Additionally, there are numerous third-party modules available that can be installed using package managers like pip. Here are some commonly used modules in Python:</p>"
   ]
  },
  {
   "cell_type": "markdown",
   "id": "0ba66c3e",
   "metadata": {},
   "source": [
    "## math"
   ]
  },
  {
   "cell_type": "code",
   "execution_count": 17,
   "id": "d9120ab5",
   "metadata": {},
   "outputs": [
    {
     "name": "stdout",
     "output_type": "stream",
     "text": [
      "Square root of 16 is 4.0\n",
      "Cosine of 0.7853981633974483 is 0.7071067811865476\n"
     ]
    }
   ],
   "source": [
    "# math: Provides mathematical functions and operations like trigonometry, logarithms, square roots, etc.\n",
    "\n",
    "import math\n",
    "\n",
    "# Calculate the square root of a number\n",
    "num = 16\n",
    "sqrt = math.sqrt(num)\n",
    "print(\"Square root of\", num, \"is\", sqrt)\n",
    "\n",
    "# Calculate the cosine of an angle in radians\n",
    "angle = math.pi / 4\n",
    "cosine = math.cos(angle)\n",
    "print(\"Cosine of\", angle, \"is\", cosine)"
   ]
  },
  {
   "cell_type": "markdown",
   "id": "6a5853cd",
   "metadata": {},
   "source": [
    "## random"
   ]
  },
  {
   "cell_type": "code",
   "execution_count": 16,
   "id": "5aa81b68",
   "metadata": {},
   "outputs": [
    {
     "name": "stdout",
     "output_type": "stream",
     "text": [
      "Random number: 9\n",
      "Shuffled list: [1, 2, 3, 5, 4]\n",
      "Random fruit: orange\n"
     ]
    }
   ],
   "source": [
    "# random: Offers functions for generating random numbers, shuffling sequences, and selecting random elements.\n",
    "\n",
    "import random\n",
    "\n",
    "# Generate a random integer between 1 and 10\n",
    "random_number = random.randint(1, 10)\n",
    "print(\"Random number:\", random_number)\n",
    "\n",
    "# Shuffle a list\n",
    "my_list = [1, 2, 3, 4, 5]\n",
    "random.shuffle(my_list)\n",
    "print(\"Shuffled list:\", my_list)\n",
    "\n",
    "# Select a random element from a list\n",
    "fruit_list = [\"apple\", \"banana\", \"orange\", \"kiwi\"]\n",
    "random_fruit = random.choice(fruit_list)\n",
    "print(\"Random fruit:\", random_fruit)"
   ]
  },
  {
   "cell_type": "markdown",
   "id": "cd7638cc",
   "metadata": {},
   "source": [
    "## datetime"
   ]
  },
  {
   "cell_type": "code",
   "execution_count": 15,
   "id": "00ff022a",
   "metadata": {},
   "outputs": [
    {
     "name": "stdout",
     "output_type": "stream",
     "text": [
      "Current date and time: 2023-05-31 17:08:23.719656\n",
      "Specific date: 2023-05-31 00:00:00\n",
      "Formatted date: 2023-05-31\n"
     ]
    }
   ],
   "source": [
    "# datetime: Provides classes and functions for working with dates, times, and time intervals.\n",
    "\n",
    "import datetime\n",
    "\n",
    "# Get the current date and time\n",
    "current_datetime = datetime.datetime.now()\n",
    "print(\"Current date and time:\", current_datetime)\n",
    "\n",
    "# Create a specific date\n",
    "specific_date = datetime.datetime(2023, 5, 31)\n",
    "print(\"Specific date:\", specific_date)\n",
    "\n",
    "# Format a date as a string\n",
    "formatted_date = specific_date.strftime(\"%Y-%m-%d\")\n",
    "print(\"Formatted date:\", formatted_date)"
   ]
  },
  {
   "cell_type": "markdown",
   "id": "0eb4747a",
   "metadata": {},
   "source": [
    "## os"
   ]
  },
  {
   "cell_type": "code",
   "execution_count": 20,
   "id": "aa26072d",
   "metadata": {},
   "outputs": [
    {
     "name": "stdout",
     "output_type": "stream",
     "text": [
      "Current directory: c:\\Users\\Krids\\learning_Python\n",
      "New directory created: my_folder\n",
      "Files in current directory: ['.git', '.idea', 'game_function.py', 'get_start.ipynb', 'menu_page.py', 'my_folder', 'name.text', 'README.md']\n"
     ]
    }
   ],
   "source": [
    "# os: Allows interacting with the operating system, providing functions for file and directory operations, environment variables, and process management.\n",
    "\n",
    "import os\n",
    "\n",
    "# Get the current working directory\n",
    "current_directory = os.getcwd()\n",
    "print(\"Current directory:\", current_directory)\n",
    "\n",
    "# Create a new directory\n",
    "new_directory = \"my_folder\"\n",
    "os.mkdir(new_directory)\n",
    "print(\"New directory created:\", new_directory)\n",
    "\n",
    "# List files in a directory\n",
    "files = os.listdir()\n",
    "print(\"Files in current directory:\", files)"
   ]
  },
  {
   "cell_type": "markdown",
   "id": "3ec309c8",
   "metadata": {},
   "source": [
    "## sys"
   ]
  },
  {
   "cell_type": "code",
   "execution_count": 13,
   "id": "1fe5fac4",
   "metadata": {},
   "outputs": [
    {
     "name": "stdout",
     "output_type": "stream",
     "text": [
      "Command-line arguments: ['C:\\\\Users\\\\Krids\\\\AppData\\\\Roaming\\\\Python\\\\Python311\\\\site-packages\\\\ipykernel_launcher.py', '--ip=127.0.0.1', '--stdin=9018', '--control=9016', '--hb=9015', '--Session.signature_scheme=\"hmac-sha256\"', '--Session.key=b\"ac66507c-1e88-470a-a7ff-77c2eacabcb5\"', '--shell=9017', '--transport=\"tcp\"', '--iopub=9019', '--f=c:\\\\Users\\\\Krids\\\\AppData\\\\Roaming\\\\jupyter\\\\runtime\\\\kernel-v2-17048YV6Xkr0D6SPb.json']\n",
      "Python version: 3.11.3 (tags/v3.11.3:f3909b8, Apr  4 2023, 23:49:59) [MSC v.1934 64 bit (AMD64)]\n"
     ]
    }
   ],
   "source": [
    "# sys: Provides access to some system-specific parameters and functions, such as command-line arguments and the Python interpreter.\n",
    "\n",
    "import sys\n",
    "\n",
    "# Get command-line arguments\n",
    "arguments = sys.argv\n",
    "print(\"Command-line arguments:\", arguments)\n",
    "\n",
    "# Get the Python version\n",
    "python_version = sys.version\n",
    "print(\"Python version:\", python_version)"
   ]
  },
  {
   "cell_type": "markdown",
   "id": "5bb87295",
   "metadata": {},
   "source": [
    "## re"
   ]
  },
  {
   "cell_type": "code",
   "execution_count": 12,
   "id": "f2e7bef9",
   "metadata": {},
   "outputs": [
    {
     "name": "stdout",
     "output_type": "stream",
     "text": [
      "Matches: ['12345']\n"
     ]
    }
   ],
   "source": [
    "# re: Enables working with regular expressions for pattern matching and text manipulation.\n",
    "\n",
    "import re\n",
    "\n",
    "# Match a pattern in a string\n",
    "text = \"Hello, 12345 World!\"\n",
    "pattern = r\"\\d+\"\n",
    "matches = re.findall(pattern, text)\n",
    "print(\"Matches:\", matches)"
   ]
  },
  {
   "cell_type": "markdown",
   "id": "34025c8c",
   "metadata": {},
   "source": [
    "## json"
   ]
  },
  {
   "cell_type": "code",
   "execution_count": 11,
   "id": "7a6a6d14",
   "metadata": {},
   "outputs": [
    {
     "name": "stdout",
     "output_type": "stream",
     "text": [
      "Serialized JSON data: {\"name\": \"John Doe\", \"age\": 25, \"city\": \"New York\"}\n",
      "Deserialized Python object: {'name': 'Jane Smith', 'age': 30, 'city': 'Los Angeles'}\n"
     ]
    }
   ],
   "source": [
    "# json: Offers functions for working with JSON (JavaScript Object Notation) data, including serialization and deserialization.\n",
    "\n",
    "import json\n",
    "\n",
    "# Serialize Python object to JSON\n",
    "person = {\n",
    "    \"name\": \"John Doe\",\n",
    "    \"age\": 25,\n",
    "    \"city\": \"New York\"\n",
    "}\n",
    "json_data = json.dumps(person)\n",
    "print(\"Serialized JSON data:\", json_data)\n",
    "\n",
    "# Deserialize JSON to Python object\n",
    "json_string = '{\"name\": \"Jane Smith\", \"age\": 30, \"city\": \"Los Angeles\"}'\n",
    "python_obj = json.loads(json_string)\n",
    "print(\"Deserialized Python object:\", python_obj)"
   ]
  },
  {
   "cell_type": "markdown",
   "id": "e20fd846",
   "metadata": {},
   "source": [
    "## csv"
   ]
  },
  {
   "cell_type": "code",
   "execution_count": 21,
   "id": "55aa02cd",
   "metadata": {},
   "outputs": [
    {
     "name": "stdout",
     "output_type": "stream",
     "text": [
      "Data written to CSV file.\n",
      "['Name', 'Age', 'City']\n",
      "['John', '25', 'New York']\n",
      "['Jane', '30', 'Los Angeles']\n"
     ]
    }
   ],
   "source": [
    "# csv: Provides functionality for reading and writing CSV (Comma-Separated Values) files.\n",
    "\n",
    "import csv\n",
    "\n",
    "# Write data to a CSV file\n",
    "data = [\n",
    "    [\"Name\", \"Age\", \"City\"],\n",
    "    [\"John\", 25, \"New York\"],\n",
    "    [\"Jane\", 30, \"Los Angeles\"]\n",
    "]\n",
    "with open(\"data.csv\", \"w\", newline=\"\") as file:\n",
    "    writer = csv.writer(file)\n",
    "    writer.writerows(data)\n",
    "print(\"Data written to CSV file.\")\n",
    "\n",
    "# Read data from a CSV file\n",
    "with open(\"data.csv\", \"r\") as file:\n",
    "    reader = csv.reader(file)\n",
    "    for row in reader:\n",
    "        print(row)"
   ]
  },
  {
   "cell_type": "markdown",
   "id": "ef0310db",
   "metadata": {},
   "source": [
    "## requests"
   ]
  },
  {
   "cell_type": "code",
   "execution_count": 23,
   "id": "4c98fa19",
   "metadata": {},
   "outputs": [],
   "source": [
    "# requests: A widely used third-party module for making HTTP requests and working with APIs.\n",
    "\n",
    "import requests\n",
    "\n",
    "# Make an HTTP GET request(comment)\n",
    "\n",
    "# response = requests.get(\"https://api.example.com/data\")\n",
    "# data = response.json()\n",
    "# print(\"Response data:\", data)\n",
    "\n",
    "# Make an HTTP POST request(comment)\n",
    "\n",
    "# payload = {\"name\": \"John Doe\", \"age\": 25}\n",
    "# response = requests.post(\"https://api.example.com/submit\", json=payload)\n",
    "# print(\"Response status code:\", response.status_code)"
   ]
  },
  {
   "cell_type": "markdown",
   "id": "0ca77ab1",
   "metadata": {},
   "source": [
    "## numpy"
   ]
  },
  {
   "cell_type": "code",
   "execution_count": 41,
   "id": "22a0ddfb",
   "metadata": {},
   "outputs": [
    {
     "name": "stdout",
     "output_type": "stream",
     "text": [
      "Numpy array: [1 2 3 4 5 6]\n",
      "Result of sin function: [ 0.84147098  0.90929743  0.14112001 -0.7568025  -0.95892427 -0.2794155 ]\n",
      "Reshaped array: [[1 2]\n",
      " [3 4]\n",
      " [5 6]]\n"
     ]
    }
   ],
   "source": [
    "# numpy: A powerful numerical computing library that provides support for large, multi-dimensional arrays and mathematical operations.\n",
    "\n",
    "import numpy as np\n",
    "\n",
    "# Create a numpy array\n",
    "arr = np.array([1, 2, 3, 4, 5, 6])\n",
    "print(\"Numpy array:\", arr)\n",
    "\n",
    "# Perform mathematical operations on arrays\n",
    "result = np.sin(arr)\n",
    "print(\"Result of sin function:\", result)\n",
    "\n",
    "# Reshape an array\n",
    "reshaped_arr = arr.reshape(-1, 2)\n",
    "print(\"Reshaped array:\", reshaped_arr)"
   ]
  },
  {
   "cell_type": "markdown",
   "id": "8f66a0f0",
   "metadata": {},
   "source": [
    "## pandas"
   ]
  },
  {
   "cell_type": "code",
   "execution_count": 2,
   "id": "9cf44003",
   "metadata": {},
   "outputs": [
    {
     "name": "stdout",
     "output_type": "stream",
     "text": [
      "Pandas DataFrame:\n",
      "   Name  Age         City\n",
      "0  John   25     New York\n",
      "1  Jane   30  Los Angeles\n",
      "2   Tom   35       London\n",
      "Filtered DataFrame:\n",
      "   Name  Age         City\n",
      "1  Jane   30  Los Angeles\n",
      "2   Tom   35       London\n"
     ]
    }
   ],
   "source": [
    "# pandas: Another popular library for data manipulation and analysis, offering data structures like DataFrames and tools for handling structured data.\n",
    "\n",
    "import pandas as pd\n",
    "\n",
    "# Create a pandas DataFrame\n",
    "data = {\n",
    "    \"Name\": [\"John\", \"Jane\", \"Tom\"],\n",
    "    \"Age\": [25, 30, 35],\n",
    "    \"City\": [\"New York\", \"Los Angeles\", \"London\"]\n",
    "}\n",
    "df = pd.DataFrame(data)\n",
    "print(\"Pandas DataFrame:\")\n",
    "print(df)\n",
    "\n",
    "# Filter data based on conditions\n",
    "filtered_df = df[df[\"Age\"] > 25]\n",
    "print(\"Filtered DataFrame:\")\n",
    "print(filtered_df)"
   ]
  },
  {
   "cell_type": "markdown",
   "id": "30d2d84a",
   "metadata": {},
   "source": [
    "## matplotlib"
   ]
  },
  {
   "cell_type": "code",
   "execution_count": 43,
   "id": "681ae9c1",
   "metadata": {},
   "outputs": [
    {
     "data": {
      "image/png": "[encoded data removed]",
      "text/plain": [
       "<Figure size 640x480 with 1 Axes>"
      ]
     },
     "metadata": {},
     "output_type": "display_data"
    },
    {
     "data": {
      "image/png": "[encoded data removed]",
      "text/plain": [
       "<Figure size 640x480 with 1 Axes>"
      ]
     },
     "metadata": {},
     "output_type": "display_data"
    }
   ],
   "source": [
    "# matplotlib: A plotting library for creating visualizations and charts.\n",
    "\n",
    "import matplotlib.pyplot as plt\n",
    "\n",
    "# Create a line plot\n",
    "x = [1, 2, 3, 4, 5]\n",
    "y = [2, 4, 6, 8, 10]\n",
    "plt.plot(x, y)\n",
    "plt.xlabel(\"X-axis\")\n",
    "plt.ylabel(\"Y-axis\")\n",
    "plt.title(\"Line Plot\")\n",
    "plt.show()\n",
    "\n",
    "# Create a bar chart\n",
    "labels = [\"A\", \"B\", \"C\"]\n",
    "values = [10, 5, 7]\n",
    "plt.bar(labels, values)\n",
    "plt.xlabel(\"Categories\")\n",
    "plt.ylabel(\"Values\")\n",
    "plt.title(\"Bar Chart\")\n",
    "plt.show()"
   ]
  },
  {
   "cell_type": "markdown",
   "id": "39912758",
   "metadata": {},
   "source": [
    "## Class and Ojects"
   ]
  },
  {
   "cell_type": "code",
   "execution_count": 12,
   "id": "deb8e281",
   "metadata": {},
   "outputs": [
    {
     "name": "stdout",
     "output_type": "stream",
     "text": [
      "Name: Philip\n",
      "Major: IT\n",
      "GPA: 4.0\n",
      "Is on probation: False\n"
     ]
    }
   ],
   "source": [
    "#create students cless\n",
    "class Student:\n",
    "    def __init__(self, name, major, gpa, is_on_probation):\n",
    "        self.name = name\n",
    "        self.major = major\n",
    "        self.gpa = gpa\n",
    "        self.is_on_probation = is_on_probation\n",
    "\n",
    "#create students objects\n",
    "students = [\n",
    "    Student(\"Philip\", \"IT\", 4.00, False),\n",
    "    Student(\"Jaja\", \"IBM\", 3.89, False),\n",
    "    Student(\"Alice\", \"IT\", 3.75, True)\n",
    "]\n",
    "\n",
    "\n",
    "first_student = students[0]\n",
    "print(\"Name:\", first_student.name)\n",
    "print(\"Major:\", first_student.major)\n",
    "print(\"GPA:\", first_student.gpa)\n",
    "print(\"Is on probation:\", first_student.is_on_probation)\n"
   ]
  },
  {
   "cell_type": "code",
   "execution_count": 15,
   "id": "aba3533c",
   "metadata": {},
   "outputs": [
    {
     "name": "stdout",
     "output_type": "stream",
     "text": [
      "Name: Philip\n",
      "Major: IT\n",
      "GPA: 4.0\n",
      "Is on probation: False\n",
      "\n",
      "Name: Jaja\n",
      "Major: IBM\n",
      "GPA: 3.89\n",
      "Is on probation: False\n",
      "\n",
      "Name: Alice\n",
      "Major: Math\n",
      "GPA: 3.75\n",
      "Is on probation: True\n",
      "\n",
      "Name: Bob\n",
      "Major: Chem\n",
      "GPA: 3.95\n",
      "Is on probation: False\n",
      "\n",
      "Name: Emily\n",
      "Major: Physics\n",
      "GPA: 3.82\n",
      "Is on probation: False\n",
      "\n",
      "Name: David\n",
      "Major: ECE\n",
      "GPA: 3.7\n",
      "Is on probation: False\n",
      "\n",
      "Name: Julia\n",
      "Major: Mech\n",
      "GPA: 3.9\n",
      "Is on probation: False\n",
      "\n",
      "Name: Liam\n",
      "Major: Civil\n",
      "GPA: 3.77\n",
      "Is on probation: False\n",
      "\n",
      "Name: Sophia\n",
      "Major: Biology\n",
      "GPA: 3.65\n",
      "Is on probation: True\n",
      "\n",
      "Name: Oliver\n",
      "Major: Psych\n",
      "GPA: 3.88\n",
      "Is on probation: False\n",
      "\n"
     ]
    }
   ],
   "source": [
    "#create students cless\n",
    "class Student:\n",
    "    def __init__(self, name, major, gpa, is_on_probation):\n",
    "        self.name = name\n",
    "        self.major = major\n",
    "        self.gpa = gpa\n",
    "        self.is_on_probation = is_on_probation\n",
    "\n",
    "#create students objects\n",
    "students = [\n",
    "    Student(\"Philip\", \"IT\", 4.00, False),\n",
    "    Student(\"Jaja\", \"IBM\", 3.89, False),\n",
    "    Student(\"Alice\", \"Math\", 3.75, True),\n",
    "    Student(\"Bob\", \"Chem\", 3.95, False),\n",
    "    Student(\"Emily\", \"Physics\", 3.82, False),\n",
    "    Student(\"David\", \"ECE\", 3.70, False),\n",
    "    Student(\"Julia\", \"Mech\", 3.90, False),\n",
    "    Student(\"Liam\", \"Civil\", 3.77, False),\n",
    "    Student(\"Sophia\", \"Biology\", 3.65, True),\n",
    "    Student(\"Oliver\", \"Psych\", 3.88, False)\n",
    "]\n",
    "\n",
    "for student in students:\n",
    "    print(\"Name:\", student.name)\n",
    "    print(\"Major:\", student.major)\n",
    "    print(\"GPA:\", student.gpa)\n",
    "    print(\"Is on probation:\", student.is_on_probation)\n",
    "    print()"
   ]
  },
  {
   "cell_type": "code",
   "execution_count": 20,
   "id": "4682a94d",
   "metadata": {},
   "outputs": [
    {
     "name": "stdout",
     "output_type": "stream",
     "text": [
      "Name: Philip\n",
      "Major: IT\n",
      "GPA: 4.0\n",
      "Is on probation: False\n",
      "\n",
      "Name: Jaja\n",
      "Major: IBM\n",
      "GPA: 3.89\n",
      "Is on probation: False\n",
      "\n",
      "Name: Alice\n",
      "Major: Math\n",
      "GPA: 3.75\n",
      "Is on probation: True\n",
      "\n",
      "Name: Bob\n",
      "Major: Chem\n",
      "GPA: 3.95\n",
      "Is on probation: False\n",
      "\n",
      "Name: Emily\n",
      "Major: Physics\n",
      "GPA: 3.82\n",
      "Is on probation: False\n",
      "\n"
     ]
    }
   ],
   "source": [
    "#create students cless\n",
    "class Student:\n",
    "    def __init__(self, name, major, gpa, is_on_probation):\n",
    "        self.name = name\n",
    "        self.major = major\n",
    "        self.gpa = gpa\n",
    "        self.is_on_probation = is_on_probation\n",
    "\n",
    "#create students objects\n",
    "students = [\n",
    "    Student(\"Philip\", \"IT\", 4.00, False),\n",
    "    Student(\"Jaja\", \"IBM\", 3.89, False),\n",
    "    Student(\"Alice\", \"Math\", 3.75, True),\n",
    "    Student(\"Bob\", \"Chem\", 3.95, False),\n",
    "    Student(\"Emily\", \"Physics\", 3.82, False),\n",
    "    Student(\"David\", \"ECE\", 3.70, False),\n",
    "    Student(\"Julia\", \"Mech\", 3.90, False),\n",
    "    Student(\"Liam\", \"Civil\", 3.77, False),\n",
    "    Student(\"Sophia\", \"Biology\", 3.65, True),\n",
    "    Student(\"Oliver\", \"Psych\", 3.88, False)\n",
    "]\n",
    "\n",
    "for i in range(5):\n",
    "    student = students[i]\n",
    "    print(\"Name:\", student.name)\n",
    "    print(\"Major:\", student.major)\n",
    "    print(\"GPA:\", student.gpa)\n",
    "    print(\"Is on probation:\", student.is_on_probation)\n",
    "    print()"
   ]
  },
  {
   "cell_type": "code",
   "execution_count": 19,
   "id": "3c665108",
   "metadata": {},
   "outputs": [
    {
     "name": "stdout",
     "output_type": "stream",
     "text": [
      "Name: Philip\n",
      "Major: IT\n",
      "GPA: 4.0\n",
      "Is on probation: False\n",
      "\n",
      "Name: Jaja\n",
      "Major: IBM\n",
      "GPA: 3.89\n",
      "Is on probation: False\n",
      "\n",
      "Name: Alice\n",
      "Major: Math\n",
      "GPA: 3.75\n",
      "Is on probation: True\n",
      "\n",
      "Name: Bob\n",
      "Major: Chem\n",
      "GPA: 2.95\n",
      "Is on probation: False\n",
      "\n",
      "Name: Emily\n",
      "Major: Physics\n",
      "GPA: 3.82\n",
      "Is on probation: False\n",
      "\n",
      "Name: David\n",
      "Major: ECE\n",
      "GPA: 3.7\n",
      "Is on probation: False\n",
      "\n",
      "Name: Julia\n",
      "Major: Mech\n",
      "GPA: 2.9\n",
      "Is on probation: False\n",
      "\n",
      "Name: Liam\n",
      "Major: Civil\n",
      "GPA: 2.77\n",
      "Is on probation: False\n",
      "\n",
      "Name: Sophia\n",
      "Major: Biology\n",
      "GPA: 3.65\n",
      "Is on probation: True\n",
      "\n",
      "Name: Oliver\n",
      "Major: Psych\n",
      "GPA: 2.88\n",
      "Is on probation: False\n",
      "\n"
     ]
    }
   ],
   "source": [
    "class Student:\n",
    "    def __init__(self, name, major, gpa, is_on_probation):\n",
    "        self.name = name\n",
    "        self.major = major\n",
    "        self.gpa = gpa\n",
    "        self.is_on_probation = is_on_probation\n",
    "\n",
    "    def display_info(self):\n",
    "        print(\"Name:\", self.name)\n",
    "        print(\"Major:\", self.major)\n",
    "        print(\"GPA:\", self.gpa)\n",
    "        print(\"Is on probation:\", self.is_on_probation)\n",
    "        print()\n",
    "\n",
    "    def get_honor_roll_status(self):\n",
    "        if self.gpa >= 3.5:\n",
    "            return True\n",
    "        else:\n",
    "            return False\n",
    "\n",
    "\n",
    "# Create student objects\n",
    "students = [\n",
    "    Student(\"Philip\", \"IT\", 4.00, False),\n",
    "    Student(\"Jaja\", \"IBM\", 3.89, False),\n",
    "    Student(\"Alice\", \"Math\", 3.75, True),\n",
    "    Student(\"Bob\", \"Chem\", 2.95, False),\n",
    "    Student(\"Emily\", \"Physics\", 3.82, False),\n",
    "    Student(\"David\", \"ECE\", 3.70, False),\n",
    "    Student(\"Julia\", \"Mech\", 2.90, False),\n",
    "    Student(\"Liam\", \"Civil\", 2.77, False),\n",
    "    Student(\"Sophia\", \"Biology\", 3.65, True),\n",
    "    Student(\"Oliver\", \"Psych\", 2.88, False)\n",
    "]\n",
    "\n",
    "for student in students:\n",
    "    student.display_info()\n",
    "    honor_roll_status = student.get_honor_roll_status()\n",
    "    if honor_roll_status:\n",
    "        print(f\"{student.name} is on the honor roll.\")\n",
    "    else:\n",
    "        print(f\"{student.name} is not on the honor roll.\")\n",
    "    print()\n"
   ]
  },
  {
   "cell_type": "markdown",
   "id": "f8833260",
   "metadata": {},
   "source": []
  }
 ],
 "metadata": {
  "kernelspec": {
   "display_name": "Python 3 (ipykernel)",
   "language": "python",
   "name": "python3"
  },
  "language_info": {
   "codemirror_mode": {
    "name": "ipython",
    "version": 3
   },
   "file_extension": ".py",
   "mimetype": "text/x-python",
   "name": "python",
   "nbconvert_exporter": "python",
   "pygments_lexer": "ipython3",
   "version": "3.11.3"
  },
  "vscode": {
   "interpreter": {
    "hash": "5238573367df39f7286bb46f9ff5f08f63a01a80960060ce41e3c79b190280fa"
   }
  }
 },
 "nbformat": 4,
 "nbformat_minor": 5
}
